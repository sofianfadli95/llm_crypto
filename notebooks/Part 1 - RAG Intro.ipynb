{
 "cells": [
  {
   "cell_type": "code",
   "execution_count": 1,
   "id": "1ac3bf76",
   "metadata": {},
   "outputs": [],
   "source": [
    "import minsearch\n",
    "import json"
   ]
  },
  {
   "cell_type": "code",
   "execution_count": 2,
   "id": "38959ba1",
   "metadata": {},
   "outputs": [],
   "source": [
    "with open('faq_crypto.json', 'rt') as f_in:\n",
    "    docs_raw = json.load(f_in)"
   ]
  },
  {
   "cell_type": "code",
   "execution_count": 3,
   "id": "7f386d6d",
   "metadata": {},
   "outputs": [],
   "source": [
    "documents = []\n",
    "\n",
    "for doc in docs_raw:\n",
    "    documents.append(doc)"
   ]
  },
  {
   "cell_type": "code",
   "execution_count": 4,
   "id": "c6b5a023",
   "metadata": {},
   "outputs": [
    {
     "data": {
      "text/plain": [
       "{'question': 'What is a blockchain?',\n",
       " 'answer': 'A blockchain is a distributed, cryptographically-secure database structure that allows network participants to establish a trusted and immutable record of transactional data without the need for intermediaries. A blockchain can execute a variety of functions beyond transaction settlement, such as smart contracts. Smart contracts are digital agreements that are embedded in code and that can have limitless formats and conditions. Blockchains have proven themselves as superior solutions for securely coordinating data, but they are capable of much more, including tokenization, incentive design, attack-resistance, and reducing counterparty risk. The very first blockchain was the Bitcoin blockchain, which itself was a culmination of over a century of advancements in cryptography and database technology.'}"
      ]
     },
     "execution_count": 4,
     "metadata": {},
     "output_type": "execute_result"
    }
   ],
   "source": [
    "documents[0]"
   ]
  },
  {
   "cell_type": "code",
   "execution_count": 5,
   "id": "dd51a9f3",
   "metadata": {},
   "outputs": [],
   "source": [
    "index = minsearch.Index(\n",
    "    text_fields=[\"question\", \"answer\"],\n",
    "    keyword_fields=[]\n",
    ")"
   ]
  },
  {
   "cell_type": "code",
   "execution_count": 6,
   "id": "b650e3d5",
   "metadata": {},
   "outputs": [
    {
     "data": {
      "text/plain": [
       "<minsearch.Index at 0x1325b6503d0>"
      ]
     },
     "execution_count": 6,
     "metadata": {},
     "output_type": "execute_result"
    }
   ],
   "source": [
    "index.fit(documents)"
   ]
  },
  {
   "cell_type": "code",
   "execution_count": 7,
   "id": "82d69b0d",
   "metadata": {},
   "outputs": [
    {
     "name": "stdout",
     "output_type": "stream",
     "text": [
      "Requirement already satisfied: openai in c:\\users\\sofia\\anaconda3\\envs\\crypto_llm\\lib\\site-packages (1.35.7)\n",
      "Requirement already satisfied: anyio<5,>=3.5.0 in c:\\users\\sofia\\anaconda3\\envs\\crypto_llm\\lib\\site-packages (from openai) (4.4.0)\n",
      "Requirement already satisfied: distro<2,>=1.7.0 in c:\\users\\sofia\\anaconda3\\envs\\crypto_llm\\lib\\site-packages (from openai) (1.9.0)\n",
      "Requirement already satisfied: httpx<1,>=0.23.0 in c:\\users\\sofia\\anaconda3\\envs\\crypto_llm\\lib\\site-packages (from openai) (0.27.2)\n",
      "Requirement already satisfied: pydantic<3,>=1.9.0 in c:\\users\\sofia\\anaconda3\\envs\\crypto_llm\\lib\\site-packages (from openai) (2.9.0)\n",
      "Requirement already satisfied: sniffio in c:\\users\\sofia\\anaconda3\\envs\\crypto_llm\\lib\\site-packages (from openai) (1.3.1)\n",
      "Requirement already satisfied: tqdm>4 in c:\\users\\sofia\\anaconda3\\envs\\crypto_llm\\lib\\site-packages (from openai) (4.66.5)\n",
      "Requirement already satisfied: typing-extensions<5,>=4.7 in c:\\users\\sofia\\anaconda3\\envs\\crypto_llm\\lib\\site-packages (from openai) (4.12.2)\n",
      "Requirement already satisfied: idna>=2.8 in c:\\users\\sofia\\anaconda3\\envs\\crypto_llm\\lib\\site-packages (from anyio<5,>=3.5.0->openai) (3.8)\n",
      "Requirement already satisfied: certifi in c:\\users\\sofia\\anaconda3\\envs\\crypto_llm\\lib\\site-packages (from httpx<1,>=0.23.0->openai) (2024.8.30)\n",
      "Requirement already satisfied: httpcore==1.* in c:\\users\\sofia\\anaconda3\\envs\\crypto_llm\\lib\\site-packages (from httpx<1,>=0.23.0->openai) (1.0.5)\n",
      "Requirement already satisfied: h11<0.15,>=0.13 in c:\\users\\sofia\\anaconda3\\envs\\crypto_llm\\lib\\site-packages (from httpcore==1.*->httpx<1,>=0.23.0->openai) (0.14.0)\n",
      "Requirement already satisfied: annotated-types>=0.4.0 in c:\\users\\sofia\\anaconda3\\envs\\crypto_llm\\lib\\site-packages (from pydantic<3,>=1.9.0->openai) (0.7.0)\n",
      "Requirement already satisfied: pydantic-core==2.23.2 in c:\\users\\sofia\\anaconda3\\envs\\crypto_llm\\lib\\site-packages (from pydantic<3,>=1.9.0->openai) (2.23.2)\n",
      "Requirement already satisfied: tzdata in c:\\users\\sofia\\anaconda3\\envs\\crypto_llm\\lib\\site-packages (from pydantic<3,>=1.9.0->openai) (2024.1)\n",
      "Requirement already satisfied: colorama in c:\\users\\sofia\\anaconda3\\envs\\crypto_llm\\lib\\site-packages (from tqdm>4->openai) (0.4.6)\n"
     ]
    }
   ],
   "source": [
    "!pip install openai"
   ]
  },
  {
   "cell_type": "code",
   "execution_count": 8,
   "id": "bbaca30d",
   "metadata": {},
   "outputs": [],
   "source": [
    "from openai import OpenAI"
   ]
  },
  {
   "cell_type": "code",
   "execution_count": 9,
   "id": "070c9f6e",
   "metadata": {},
   "outputs": [],
   "source": [
    "client = OpenAI()"
   ]
  },
  {
   "cell_type": "code",
   "execution_count": 10,
   "id": "a0c159e5-bf86-4f7f-9a74-222a77e0fbc0",
   "metadata": {},
   "outputs": [],
   "source": [
    "q = 'what is a blockchain?'"
   ]
  },
  {
   "cell_type": "code",
   "execution_count": 11,
   "id": "d18f8d81-3045-4e60-a481-630fa6a6683a",
   "metadata": {},
   "outputs": [
    {
     "data": {
      "text/plain": [
       "'A blockchain is a decentralized, distributed ledger technology that securely records transactions across many computers so that the record cannot be altered retroactively without the alteration of all subsequent blocks and the consensus of the network. Here are some key aspects to understand:\\n\\n1. **Decentralization**: Unlike traditional databases controlled by a single entity (like a bank or a corporation), a blockchain is maintained by a network of nodes (computers) that work together in a peer-to-peer manner.\\n\\n2. **Immutability**: Once data is recorded in a block and added to the blockchain, it is exceedingly difficult to change. This is because each block contains a cryptographic hash of the previous block, a timestamp, and transaction data. Altering a single block would require recalculating the hashes of all subsequent blocks, which is computationally impractical in a large network.\\n\\n3. **Transparency and Trust**: Since the ledger is distributed among all nodes in the network, every participant has access to the same data. This transparency fosters trust, as all participants can independently verify the authenticity of the transactions recorded.\\n\\n4. **Security**: Blockchain uses cryptographic techniques to secure data. Transactions must be validated and agreed upon by the network through consensus mechanisms like Proof of Work (PoW) or Proof of Stake (PoS), making unauthorized changes extremely difficult.\\n\\n5. **Smart Contracts and Automation**: Many blockchain platforms, such as Ethereum, support smart contracts—self-executing contracts with the terms of the agreement directly written into code. These contracts automatically execute and enforce terms, reducing the need for intermediaries.\\n\\n6. **Applications**: While blockchain technology is best known as the underlying technology for cryptocurrencies like Bitcoin and Ethereum, it has a wide range of potential applications. These include supply chain management, voting systems, healthcare records, and identity verification, among others.\\n\\nBy creating a system where trust can be established without intermediaries, blockchain has the potential to revolutionize numerous industries and change how data and transactions are handled globally.'"
      ]
     },
     "execution_count": 11,
     "metadata": {},
     "output_type": "execute_result"
    }
   ],
   "source": [
    "response = client.chat.completions.create(\n",
    "    model='gpt-4o',\n",
    "    messages=[{\"role\": \"user\", \"content\": q}]\n",
    ")\n",
    "\n",
    "response.choices[0].message.content"
   ]
  },
  {
   "cell_type": "code",
   "execution_count": 12,
   "id": "5104ca85-29ac-4747-91c0-796a23cd465b",
   "metadata": {},
   "outputs": [],
   "source": [
    "def search(query):\n",
    "    boost = {'question': 3.0, 'section': 0.5}\n",
    "\n",
    "    results = index.search(\n",
    "        query=query,\n",
    "        boost_dict=boost,\n",
    "        num_results=5\n",
    "    )\n",
    "\n",
    "    return results"
   ]
  },
  {
   "cell_type": "code",
   "execution_count": 13,
   "id": "1e477e50-4c99-4fa0-a349-3b9482c740ea",
   "metadata": {},
   "outputs": [],
   "source": [
    "def build_prompt(query, search_results):\n",
    "    prompt_template = \"\"\"\n",
    "You're a personal assisstant which teach people which still beginner about investing in cryptocurrency. \n",
    "Answer the QUESTION based on the CONTEXT from the FAQ database.\n",
    "Use only the facts from the CONTEXT when answering the QUESTION.\n",
    "\n",
    "QUESTION: {question}\n",
    "\n",
    "CONTEXT: \n",
    "{context}\n",
    "\"\"\".strip()\n",
    "\n",
    "    context = \"\"\n",
    "    \n",
    "    for doc in search_results:\n",
    "        context = context + f\"\\nquestion: {doc['question']}\\nanswer: {doc['answer']}\\n\\n\"\n",
    "    \n",
    "    prompt = prompt_template.format(question=query, context=context).strip()\n",
    "    return prompt"
   ]
  },
  {
   "cell_type": "code",
   "execution_count": 14,
   "id": "e3b96418-f066-4319-bed5-c3a773e2fcf8",
   "metadata": {},
   "outputs": [],
   "source": [
    "def llm(prompt):\n",
    "    response = client.chat.completions.create(\n",
    "        model='gpt-4o',\n",
    "        messages=[{\"role\": \"user\", \"content\": prompt}]\n",
    "    )\n",
    "    \n",
    "    return response.choices[0].message.content"
   ]
  },
  {
   "cell_type": "code",
   "execution_count": 15,
   "id": "b9325b04-1978-45aa-a59a-95c4994957b7",
   "metadata": {},
   "outputs": [],
   "source": [
    "query = 'what is a blockchain?'\n",
    "\n",
    "def rag(query):\n",
    "    search_results = search(query)\n",
    "    prompt = build_prompt(query, search_results)\n",
    "    answer = llm(prompt)\n",
    "    return answer"
   ]
  },
  {
   "cell_type": "code",
   "execution_count": 16,
   "id": "325991fa-9951-4162-a7e8-2f3414e71684",
   "metadata": {},
   "outputs": [
    {
     "data": {
      "text/plain": [
       "'A blockchain is a distributed, cryptographically-secure database structure that allows network participants to establish a trusted and immutable record of transactional data without the need for intermediaries. It can execute a variety of functions beyond transaction settlement, such as smart contracts, which are digital agreements embedded in code with limitless formats and conditions. Blockchains can securely coordinate data and offer additional benefits like tokenization, incentive design, attack-resistance, and reducing counterparty risk. The first blockchain was the Bitcoin blockchain, which resulted from over a century of advancements in cryptography and database technology.'"
      ]
     },
     "execution_count": 16,
     "metadata": {},
     "output_type": "execute_result"
    }
   ],
   "source": [
    "rag(query)"
   ]
  },
  {
   "cell_type": "code",
   "execution_count": 17,
   "id": "057304f1-5a1e-478d-9dfe-1ceef9ccd358",
   "metadata": {},
   "outputs": [],
   "source": [
    "from elasticsearch import Elasticsearch"
   ]
  },
  {
   "cell_type": "code",
   "execution_count": 18,
   "id": "86ffa642-b9cb-4d41-b73a-6b42dd72ac88",
   "metadata": {},
   "outputs": [],
   "source": [
    "es_client = Elasticsearch('http://localhost:9200') "
   ]
  },
  {
   "cell_type": "code",
   "execution_count": 19,
   "id": "a24c34da-d043-4308-a604-9c3bbf7798f9",
   "metadata": {},
   "outputs": [
    {
     "data": {
      "text/plain": [
       "ObjectApiResponse({'acknowledged': True, 'shards_acknowledged': True, 'index': 'crypto-questions'})"
      ]
     },
     "execution_count": 19,
     "metadata": {},
     "output_type": "execute_result"
    }
   ],
   "source": [
    "index_settings = {\n",
    "    \"settings\": {\n",
    "        \"number_of_shards\": 1,\n",
    "        \"number_of_replicas\": 0\n",
    "    },\n",
    "    \"mappings\": {\n",
    "        \"properties\": {\n",
    "            \"question\": {\"type\": \"text\"},\n",
    "            \"answer\": {\"type\": \"text\"} \n",
    "        }\n",
    "    }\n",
    "}\n",
    "\n",
    "index_name = \"crypto-questions\"\n",
    "\n",
    "es_client.indices.create(index=index_name, body=index_settings)"
   ]
  },
  {
   "cell_type": "code",
   "execution_count": 20,
   "id": "8e7d27af-a268-4c89-8de3-2c41b5552f76",
   "metadata": {},
   "outputs": [],
   "source": [
    "from tqdm.auto import tqdm"
   ]
  },
  {
   "cell_type": "code",
   "execution_count": 21,
   "id": "d4b9f737-d443-4202-8846-0c2d8acf1f80",
   "metadata": {},
   "outputs": [
    {
     "data": {
      "application/vnd.jupyter.widget-view+json": {
       "model_id": "f21e75ef43a047699e0f3eb887c9e140",
       "version_major": 2,
       "version_minor": 0
      },
      "text/plain": [
       "  0%|          | 0/46 [00:00<?, ?it/s]"
      ]
     },
     "metadata": {},
     "output_type": "display_data"
    }
   ],
   "source": [
    "for doc in tqdm(documents):\n",
    "    es_client.index(index=index_name, document=doc)"
   ]
  },
  {
   "cell_type": "code",
   "execution_count": 22,
   "id": "9de93274-db7d-4f5c-a657-bade3fb2fac3",
   "metadata": {},
   "outputs": [],
   "source": [
    "def elastic_search(query):\n",
    "    search_query = {\n",
    "        \"size\": 5,\n",
    "        \"query\": {\n",
    "            \"bool\": {\n",
    "                \"must\": {\n",
    "                    \"multi_match\": {\n",
    "                        \"query\": query,\n",
    "                        \"fields\": [\"question^3\", \"answer\"],\n",
    "                        \"type\": \"best_fields\"\n",
    "                    }\n",
    "                },\n",
    "            }\n",
    "        }\n",
    "    }\n",
    "\n",
    "    response = es_client.search(index=index_name, body=search_query)\n",
    "    \n",
    "    result_docs = []\n",
    "    \n",
    "    for hit in response['hits']['hits']:\n",
    "        result_docs.append(hit['_source'])\n",
    "    \n",
    "    return result_docs"
   ]
  },
  {
   "cell_type": "code",
   "execution_count": 23,
   "id": "af765bae-10aa-42b3-a4d9-a8b15f36628b",
   "metadata": {},
   "outputs": [],
   "source": [
    "def rag(query):\n",
    "    search_results = elastic_search(query)\n",
    "    prompt = build_prompt(query, search_results)\n",
    "    answer = llm(prompt)\n",
    "    return answer"
   ]
  },
  {
   "cell_type": "code",
   "execution_count": 24,
   "id": "0134e876-761d-4226-be3f-c3838e284961",
   "metadata": {},
   "outputs": [
    {
     "data": {
      "text/plain": [
       "'A blockchain is a distributed, cryptographically-secure database structure that enables network participants to create a trusted and immutable record of transactional data without needing intermediaries. Beyond transaction settlement, blockchains can execute functions such as smart contracts, which are digital agreements embedded in code with various formats and conditions. Blockchains are excellent for securely coordinating data and can also be used for tokenization, incentive design, attack-resistance, and reducing counterparty risk. The first blockchain was the Bitcoin blockchain, which represented a culmination of advancements in cryptography and database technology over more than a century.'"
      ]
     },
     "execution_count": 24,
     "metadata": {},
     "output_type": "execute_result"
    }
   ],
   "source": [
    "rag(query)"
   ]
  },
  {
   "cell_type": "code",
   "execution_count": null,
   "id": "e07b25fe-59f6-411e-8662-59c973bfdd95",
   "metadata": {},
   "outputs": [],
   "source": []
  }
 ],
 "metadata": {
  "kernelspec": {
   "display_name": "Python 3 (ipykernel)",
   "language": "python",
   "name": "python3"
  },
  "language_info": {
   "codemirror_mode": {
    "name": "ipython",
    "version": 3
   },
   "file_extension": ".py",
   "mimetype": "text/x-python",
   "name": "python",
   "nbconvert_exporter": "python",
   "pygments_lexer": "ipython3",
   "version": "3.11.9"
  }
 },
 "nbformat": 4,
 "nbformat_minor": 5
}
