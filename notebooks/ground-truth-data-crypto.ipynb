{
 "cells": [
  {
   "cell_type": "raw",
   "id": "d6330bcd-6200-4f32-bf0b-ccffd1ccae4d",
   "metadata": {},
   "source": [
    "This notebook is used for create gold standard data, so we can use that data to evaluate our LLM result."
   ]
  },
  {
   "cell_type": "code",
   "execution_count": 1,
   "id": "b6f3d111-a8e3-46db-9a9d-e0f2f61883c1",
   "metadata": {},
   "outputs": [],
   "source": [
    "import minsearch\n",
    "import json"
   ]
  },
  {
   "cell_type": "code",
   "execution_count": 2,
   "id": "1143b76c-5590-4c43-8d09-74c51058ec19",
   "metadata": {},
   "outputs": [],
   "source": [
    "with open('faq_crypto.json', 'rt') as f_in:\n",
    "    docs_raw = json.load(f_in)"
   ]
  },
  {
   "cell_type": "code",
   "execution_count": 3,
   "id": "fb5b7406-f9aa-44ab-98da-41b66c1d17d1",
   "metadata": {},
   "outputs": [],
   "source": [
    "documents = []\n",
    "\n",
    "for doc in docs_raw:\n",
    "    documents.append(doc)"
   ]
  },
  {
   "cell_type": "code",
   "execution_count": 4,
   "id": "5dc014d0-2c63-4921-83ad-501a71050054",
   "metadata": {},
   "outputs": [
    {
     "data": {
      "text/plain": [
       "{'question': 'What is a blockchain?',\n",
       " 'answer': 'A blockchain is a distributed, cryptographically-secure database structure that allows network participants to establish a trusted and immutable record of transactional data without the need for intermediaries. A blockchain can execute a variety of functions beyond transaction settlement, such as smart contracts. Smart contracts are digital agreements that are embedded in code and that can have limitless formats and conditions. Blockchains have proven themselves as superior solutions for securely coordinating data, but they are capable of much more, including tokenization, incentive design, attack-resistance, and reducing counterparty risk. The very first blockchain was the Bitcoin blockchain, which itself was a culmination of over a century of advancements in cryptography and database technology.'}"
      ]
     },
     "execution_count": 4,
     "metadata": {},
     "output_type": "execute_result"
    }
   ],
   "source": [
    "documents[0]"
   ]
  },
  {
   "cell_type": "code",
   "execution_count": 5,
   "id": "97466824-d15d-4638-8913-91543ae2f20b",
   "metadata": {},
   "outputs": [],
   "source": [
    "import hashlib\n",
    "\n",
    "def generate_document_id(doc):\n",
    "    # combined = f\"{doc['course']}-{doc['question']}\"\n",
    "    combined = f\"{doc['question']}-{doc['answer'][:10]}\"\n",
    "    hash_object = hashlib.md5(combined.encode())\n",
    "    hash_hex = hash_object.hexdigest()\n",
    "    document_id = hash_hex[:8]\n",
    "    return document_id"
   ]
  },
  {
   "cell_type": "code",
   "execution_count": 6,
   "id": "463b9308-8263-4ecc-95b5-6d3eaf7985e6",
   "metadata": {},
   "outputs": [],
   "source": [
    "for doc in documents:\n",
    "    doc['id'] = generate_document_id(doc)"
   ]
  },
  {
   "cell_type": "code",
   "execution_count": 7,
   "id": "2d7e45c4-fb98-4d74-a1dd-9494dead8a22",
   "metadata": {},
   "outputs": [
    {
     "data": {
      "text/plain": [
       "{'question': 'What is a blockchain system?',\n",
       " 'answer': 'A blockchain system refers to all the aspects and features that go into a particular blockchain, everything from the consensus algorithm to the state machine to cryptographic functions. As Andreas Antonopoulus and Gavin Wood note in Mastering Ethereum, there are “a huge variety of blockchains with different properties”––qualifiers “help us understand the characteristics of the blockchain in question, such as open, public, decentralized, neutral, and censorship-resistant.”',\n",
       " 'id': 'e3753a49'}"
      ]
     },
     "execution_count": 7,
     "metadata": {},
     "output_type": "execute_result"
    }
   ],
   "source": [
    "documents[3]"
   ]
  },
  {
   "cell_type": "markdown",
   "id": "20690ddd-4535-4340-adc7-28085b9c9610",
   "metadata": {},
   "source": [
    "Let's check how many hash_ids which we successfull generated"
   ]
  },
  {
   "cell_type": "code",
   "execution_count": 8,
   "id": "ff49e41c-2098-42a4-8460-82655c75a3ad",
   "metadata": {},
   "outputs": [],
   "source": [
    "from collections import defaultdict"
   ]
  },
  {
   "cell_type": "code",
   "execution_count": 9,
   "id": "b1648e5c-be78-434f-9972-3cce0aef6300",
   "metadata": {},
   "outputs": [],
   "source": [
    "hashes = defaultdict(list)\n",
    "\n",
    "for doc in documents:\n",
    "    doc_id = doc['id']\n",
    "    hashes[doc_id].append(doc)"
   ]
  },
  {
   "cell_type": "code",
   "execution_count": 10,
   "id": "25aeefe9-ba87-4eab-a30a-bb17bf27cad7",
   "metadata": {},
   "outputs": [
    {
     "data": {
      "text/plain": [
       "defaultdict(list,\n",
       "            {'ccb39dc7': [{'question': 'What is a blockchain?',\n",
       "               'answer': 'A blockchain is a distributed, cryptographically-secure database structure that allows network participants to establish a trusted and immutable record of transactional data without the need for intermediaries. A blockchain can execute a variety of functions beyond transaction settlement, such as smart contracts. Smart contracts are digital agreements that are embedded in code and that can have limitless formats and conditions. Blockchains have proven themselves as superior solutions for securely coordinating data, but they are capable of much more, including tokenization, incentive design, attack-resistance, and reducing counterparty risk. The very first blockchain was the Bitcoin blockchain, which itself was a culmination of over a century of advancements in cryptography and database technology.',\n",
       "               'id': 'ccb39dc7'}],\n",
       "             '667d9237': [{'question': 'What is blockchain software?',\n",
       "               'answer': 'Blockchain software is like any other software. The first of its kind was Bitcoin, which was released as open source software, making it available to anyone to use or change. There are a wide variety of efforts across the blockchain ecosystem to improve upon Bitcoin’s original software. Ethereum has its own open source blockchain software. Some blockchain software is proprietary and not available to the public.',\n",
       "               'id': '667d9237'}],\n",
       "             '84efe905': [{'question': 'What is a blockchain database?',\n",
       "               'answer': 'Historically, databases have incorporated a centralized client-server architecture, in which a sole authority controls the central server. This design means that data security, alteration, and deletion rests with a single point of failure. The decentralized architecture of blockchain databases emerged as a solution for many of the weaknesses of centralized database architecture. A blockchain network consists of a large number of distributed nodes––voluntary participants who must reach consensus and maintain a single transactional record together.',\n",
       "               'id': '84efe905'}],\n",
       "             'e3753a49': [{'question': 'What is a blockchain system?',\n",
       "               'answer': 'A blockchain system refers to all the aspects and features that go into a particular blockchain, everything from the consensus algorithm to the state machine to cryptographic functions. As Andreas Antonopoulus and Gavin Wood note in Mastering Ethereum, there are “a huge variety of blockchains with different properties”––qualifiers “help us understand the characteristics of the blockchain in question, such as open, public, decentralized, neutral, and censorship-resistant.”',\n",
       "               'id': 'e3753a49'}],\n",
       "             'cb10bf88': [{'question': 'How does a blockchain work?',\n",
       "               'answer': 'When a digital transaction occurs in a blockchain network, it is grouped together in a cryptographically-secure “block” with other transactions that have occurred in the same time frame. The block is then broadcast to the network. A blockchain network is comprised of nodes or participants who validate and relay transaction information. The block of transactions is verified by participants called miners, who use computing power to solve a cryptographic puzzle and validate the block of transactions. The first miner to solve and validate the block is rewarded. Each verified block is connected to the previously verified block, creating a chain of blocks. One important cryptographic underpinning of blockchains is the hash function. Hashing assigns a fixed value to a string that is inputted into the system. Blockchain hashing power results in a deterministic, quickly-computable, and preimage-resistant system. Explore our knowledge base to learn more about how a blockchain works.',\n",
       "               'id': 'cb10bf88'}],\n",
       "             'e0db44d0': [{'question': 'What is a blockchain application?',\n",
       "               'answer': 'Blockchain applications are comparable to conventional software applications, except they implement a decentralized architecture and cryptoeconomic systems to increase security, foster trust, tokenize assets, and design new network incentives. Here are over 90 Ethereum apps that are currently being used across the Ethereum blockchain ecosystem, from prediction markets to smart legal agreements.',\n",
       "               'id': 'e0db44d0'}],\n",
       "             '8d819432': [{'question': 'What are the benefits of blockchain technology?',\n",
       "               'answer': 'Blockchain technology has a wide variety of benefits, for both global enterprises and local communities. The most commonly cited benefits of a blockchain are trusted data coordination, attack-resistance, shared IT infrastructure, tokenization, and built-in incentivization.',\n",
       "               'id': '8d819432'}],\n",
       "             '11c0cfe7': [{'question': 'What is the blockchain revolution?',\n",
       "               'answer': 'Blockchain is considered a disruptive technology because of its ability to safeguard personal information, reduce intermediaries, unlock digital assets, and potentially open up the global economy to millions more participants. Sometimes called the Trust Machine, blockchain technology is bringing transparency and security to digital networks across countless industries. In many ways, the blockchain revolution can be considered a revolution in trust.',\n",
       "               'id': '11c0cfe7'}],\n",
       "             'caf8ea07': [{'question': 'What is decentralized finance (DeFi)?',\n",
       "               'answer': 'Decentralized finance—often called DeFi or open finance—refers to the economic paradigm shift enabled by decentralized technologies, particularly blockchain networks. DeFi signals the shift from a historically centralized and closed financial system toward a universally accessible economy that is based on open protocols that are interoperable, programmable, and composable. From streamlined and secure payment networks to automated loans to USD-pegged stablecoins, decentralized finance has emerged as one of the most active sectors in the blockchain space. Some of the defining factors of a DeFi application include permissionless architecture (anyone can participate), transparent and auditable code, and interoperability with other DeFi products. DeFi Score offers a single, consistently comparable value for measuring DeFi platform risk.',\n",
       "               'id': 'caf8ea07'}],\n",
       "             '83f912dd': [{'question': 'What is a block in a blockchain?',\n",
       "               'answer': 'The “block” in a blockchain refers to a block of transactions that has been broadcast to the network. The “chain” refers to a string of these blocks. When a new block of transactions is validated by the network, it is attached to the end of an existing chain. This chain of blocks is an ever-growing ledger of transactions that the network has validated. We call this single, agreed-upon history of transactions a blockchain. Only one block can exist at a given chain height. There are several ways to add new blocks to an existing chain. These are often termed “proofs,” i.e. Proof of Work (PoW), Proof of Stake (PoS), and Proof of Authority (PoA). All involve cryptographic algorithms with varying degrees of complexity.',\n",
       "               'id': '83f912dd'}],\n",
       "             '04090abf': [{'question': 'What is block time?',\n",
       "               'answer': 'Depending upon how a particular blockchain protocol was developed, the time that it takes for a block to be added to the canonical chain can vary widely. A blockchain is a linear construct in that every new block occurs at a later time than the one that preceded it and cannot be undone. A blockchain’s linearity serves as an ideal form of validation. According to ethstats.io as of July 2019, for the Ethereum blockchain, new blocks are added approximately every 14 seconds.',\n",
       "               'id': '04090abf'}],\n",
       "             '057dc44a': [{'question': 'What is distributed ledger technology?',\n",
       "               'answer': 'Distributed ledger technology is a broad category that encompasses blockchain technology. A distributed ledger is just what its name implies. Instead of accounting for data through one centralized computer, distributed ledger technology uses many participants in a network to maintain a digital record. Blockchain technology supplements a distributed ledger with cryptographic functions and a consensus algorithm to enable greater incentive design, security, accountability, cooperation, and trust.',\n",
       "               'id': '057dc44a'}],\n",
       "             'bcd99661': [{'question': 'What is a blockchain wallet?',\n",
       "               'answer': 'A blockchain wallet contains the public key for others to transfer cryptocurrency to your address and the private key so you can securely access your own digital assets. A blockchain wallet usually accompanies node hosting and stores cryptocurrencies on your computer. The safest place for storing digital assets is offline, what is often called “cold storage.” Read “7 Pro Tips for Keeping Your Crypto Safe” for some best practices on protecting your digital assets.',\n",
       "               'id': 'bcd99661'}],\n",
       "             'e32e256b': [{'question': 'What is blockchain programming?',\n",
       "               'answer': 'As a new technology that makes use of global digital networks, the need for blockchain programmers is immense, and in recent years, programmers have flocked to the blockchain space. A key aspect that distinguishes blockchain programming from other Internet ventures is the focus on security and cryptography. Consensys Academy’s Developer Program offers programmers from any background the chance to become a blockchain expert in weeks. Industry experts from around the world teach the course, which focuses on Ethereum blockchain development.',\n",
       "               'id': 'e32e256b'}],\n",
       "             '7d5858ff': [{'question': 'What is a blockchain company?',\n",
       "               'answer': 'A blockchain company is simply a company that is invested in and/or developing blockchain technology. State of the Dapps ranks blockchain-based decentralized applications by user activity and Forbes recently released a report covering the top 50 billion-dollar companies exploring blockchain.',\n",
       "               'id': '7d5858ff'}],\n",
       "             '6e5e130c': [{'question': 'What is a private blockchain?',\n",
       "               'answer': 'Blockchains began as open source, public efforts. Private blockchains were developed as corporations and other administrative bodies began to realize the benefits of distributed ledger technology, particularly within systems of a private enterprise and when managing sensitive transaction data. With increasingly robust and modular privacy and permissioning solutions, industry experts anticipate that private and public blockchain networks will converge.',\n",
       "               'id': '6e5e130c'}],\n",
       "             '4c6c08e5': [{'question': 'What are zk-SNARKs?',\n",
       "               'answer': 'zk-SNARK is an acryonym for zero-knowledge succinct non-interactive argument of knowledge, a cryptographic proof system that enables a user to verify a transaction without revealing the actual data of the transaction, and without interacting with the user who published the transaction. In the context of a blockchain, zk-SNARKs allow users to maintain private transactions, while still validating the transactions according to the network’s consensus algorithm. For a technical walkthrough of zk-SNARKs, check out our introduction to zk-SNARKs.',\n",
       "               'id': '4c6c08e5'}],\n",
       "             '8fd8812d': [{'question': 'What is Ethereum?',\n",
       "               'answer': 'In 2015, the Ethereum blockchain launched as a much more versatile version of the Bitcoin payment system’s underlying blockchain technology. Ethereum is a decentralized, open source, and distributed computing platform that enables the creation of smart contracts and decentralized applications, also known as dapps. Smart contracts are computer protocols that facilitate, verify, or enforce the negotiation and performance of some sort of agreement. Ethereum brought the first practical solution for smart contracts to the blockchain space.',\n",
       "               'id': '8fd8812d'}],\n",
       "             'a4e48bdd': [{'question': 'How does Ethereum work?',\n",
       "               'answer': 'Like the Bitcoin blockchain, Ethereum utilizes nodes that are operated voluntarily in order to verify transactions in the network. Nodes can contain the entirety or a segment of Ethereum transaction history, the most recent information about the state of smart contracts, the balances of accounts, and more. At the foundation of Ethereum is the Ethereum Virtual Machine (EVM), which is the executable and trustless environment for smart contracts: computer protocols that facilitate, verify, and enforce the negotiation and performance of some sort of digital agreement. The EVM executes a contract with whatever rules the developer initially programmed, such as sending money from Alice to Bob. The EVM executes these programs through a bytecode language. Ethereum developers are able to use Ethereum programming languages such as Solidity and others to write smart contracts and build decentralized applications.',\n",
       "               'id': 'a4e48bdd'}],\n",
       "             '241bbd9a': [{'question': 'What is an Ethereum block?',\n",
       "               'answer': 'A “block” in the Ethereum blockchain refers to a block of transactions that has been broadcast to the network. The Ethereum mainnet currently uses the Proof of Work consensus algorithm to verify blocks of transactions.',\n",
       "               'id': '241bbd9a'}],\n",
       "             'e97d2b65': [{'question': 'What is an Ethereum smart contract?',\n",
       "               'answer': 'Ethereum pioneered practical smart contracts for the blockchain ecosystem. A smart contract is essentially a program coded for a specific purpose. Ethereum-based smart contracts have numerous applications. In banking and finance, smart contracts can help automate claims processing and enable real-time enforcement of regulatory control limits. In supply chain management, smart contracts are used to enforce asset tracking processes, as well as automate compliance and reporting. Smart contracts have limitless formats in order to support a wide range of industries.',\n",
       "               'id': 'e97d2b65'}],\n",
       "             'a497c8e2': [{'question': 'What is an Ethereum client?',\n",
       "               'answer': 'An Ethereum client is a software application that implements the technical specification defined in the Ethereum Yellow Paper or the EEA specification (for enterprise applications) and refers to any node that is able to parse and verify the blockchain, its smart contracts, or anything related. Open standards and interoperability enable Ethereum clients to communicate over the peer-to-peer network with other Ethereum clients, meaning that they all “speak” the same protocol and follow the same rules. Popular Ethereum clients include Quorum by J.P. Morgan, Parity, Geth, and Hyperledger Besu, which was built by the protocol engineering team at PegaSys. Hyperledger Besu, which was developed for enterprise use cases, includes a robust set of permissioning features and operates across both public and private chains. PegaSys Plus, a commercial distribution of Besu, has additional plugin features and support, including encryption at rest, advanced monitoring, and event streaming.',\n",
       "               'id': 'a497c8e2'}],\n",
       "             '320c4aa2': [{'question': 'What is Ethereum backed by?',\n",
       "               'answer': 'Ethereum is an open source project, which means that anyone can contribute to the codebase and that the network is open to anyone willing to participate. Therefore, Ethereum is owned by no one and everyone. There are many efforts in the Ethereum ecosystem to make open source development economically sustainable for developers. MolochDAO is a crowdsourced funding initiative to support Ethereum infrastructure projects. From its bounties explorer to its Patreon-like Grants Program, Gitcoin is also one of the most notable and multi-pronged efforts supporting open source maintainers in the blockchain space.',\n",
       "               'id': '320c4aa2'}],\n",
       "             'd184e510': [{'question': 'What is ether (ETH)?',\n",
       "               'answer': 'Ether is Ethereum’s native token and the fuel that powers the Ethereum blockchain. On Ethereum, each operation (many of which can be combined to create a single unique smart contract or transaction) requires a certain amount of computing energy to perform. Because miners must use energy to complete these operations, a unit of measurement was created to monitor and compensate miners for the work they spend running transactions and smart contracts. This unit of measurement is called gas. Gas is a unit of measurement that is unique to the Ethereum blockchain and that measures the computational work required to run transactions or smart contracts within the EVM. The more energy required to run an operation (i.e. a more complex piece of code), the more gas is required. The value of each unit of gas is expressed in ether. Ether therefore provides an incentive for miners to validate blocks of transactions and for developers to write concise, quality code. ETH is the symbol for ether. Note that “eth” is also a command line used for importing the Ethereum wallet.',\n",
       "               'id': 'd184e510'}],\n",
       "             'c70131d0': [{'question': 'What is an ETH address?',\n",
       "               'answer': 'All cryptocurrencies require addresses, or public identifiers, to send and receive funds. An ETH address is specific to Ethereum’s ether currency. Miners also need to set up an “etherbase,” which is a set address that will collect earnings from mining. “How to Store Digital Assets on Ethereum” is a helpful walkthrough for understanding cryptocurrency wallets, seed phrases, and security best practices for managing digital assets.',\n",
       "               'id': 'c70131d0'}],\n",
       "             '12f4a670': [{'question': 'How can I earn ether (ETH)?',\n",
       "               'answer': 'There are a variety of ways to earn ETH, both on and off the Ethereum blockchain. ETH is one of the most popularly traded cryptocurrencies and available on most exchanges. ETH is also becoming an increasingly popular way to compensate freelancers. Global freelance marketplaces like Bounties Network allow developers, designers, translators, and users from various disciplines to earn ETH for fulfilling tasks. Of course, mining Ethereum and supporting the network is one way to be rewarded in ETH.',\n",
       "               'id': '12f4a670'}],\n",
       "             '86649307': [{'question': 'How long does it take to transfer ether?',\n",
       "               'answer': 'Ethereum confirmation times vary widely depending upon the amount of gas one is willing to spend, along with other market factors. You can view the median wait times at ethgasstation.info.',\n",
       "               'id': '86649307'}],\n",
       "             'd1cb650b': [{'question': 'What is the gas limit in Ethereum?',\n",
       "               'answer': 'The Ethereum gas limit is one of three core concepts of ether. The others are cost and price. Limits are set as the maximum payment one is willing to incur to complete a transaction. If a gas limit is set too low, it is possible that the transaction will fail. This is because the miner who attempts the transaction will go on and execute operations until the gas limit is reached. If additional operations are required, then the miner keeps the gas as fees for work done and the system records the transaction as “failed.” Gas limits are important because they protect both users and miners from faulty codes and network attacks. They are relevant because the dynamic nature of the Ethereum blockchain is comprised of a variety of smart contract operational levels. Not all transactions are the same and therefore require different amounts of gas to fuel their operations.',\n",
       "               'id': 'd1cb650b'}],\n",
       "             'f25d123f': [{'question': 'What is Ethereum coded in?',\n",
       "               'answer': 'Ethereum smart contracts can be coded in Solidity, Serpent, LLL, and Mutan. These are contract-oriented, high-level languages. Their purpose is to target the Ethereum Virtual Machine (EVM) to provide a means for smart contracts. The Ethereum protocol has been developed using a variety of languages, from C++ to Python, Ruby, Go, Java, Rust, and more.',\n",
       "               'id': 'f25d123f'}],\n",
       "             '3c0fedb9': [{'question': 'What is Ethereum used for?',\n",
       "               'answer': 'There are a wide range of Ethereum use cases and applications, from payment settlement to supply chain tracking to digital identity management. Ethereum’s flexibility, modularity, agility, and scalability has attracted thousands of developers to the ecosystem, as well as global enterprises that are interested in deploying blockchain solutions to meet critical business needs.',\n",
       "               'id': '3c0fedb9'}],\n",
       "             '80161bff': [{'question': 'What is the Enterprise Ethereum Alliance?',\n",
       "               'answer': 'The Enterprise Ethereum Alliance (EEA) was formed in 2017 to accelerate the adoption of Ethereum in enterprise endeavors and to provide global standards for Enterprise Ethereum development. The Alliance uses an open architecture for testing and certification and focuses on providing resources for trust, privacy, and performance to foster a community that supports open source blockchain solutions. The EEA recently released their Enterprise Ethereum Client Specification V3.',\n",
       "               'id': '80161bff'}],\n",
       "             '284aafbf': [{'question': 'What’s the difference between Bitcoin and Ethereum?',\n",
       "               'answer': 'Many of the underlying principles of Bitcoin and Ethereum are the same. They share many cryptographic functions common to blockchain technology, and both blockchain networks currently use a Proof of Work consensus algorithm. However, Ethereum was developed to address opportunities that are beyond the scope of the Bitcoin blockchain. The key element that distinguishes Ethereum from Bitcoin is smart contracts––agreements that are embedded in code so that they can automatically execute. Among the other fundamental differences between Bitcoin and Ethereum are their programming languages. Bitcoin uses a stack-based language while Ethereum uses a Turing-complete language. Their block times and hashing algorithms are also different. Ethereum’s core developers believe that moving Ethereum to a Proof of Stake system will make its smart contract-based network more efficient and secure.',\n",
       "               'id': '284aafbf'}],\n",
       "             '481acdd9': [{'question': 'What’s better, Bitcoin or Ethereum?',\n",
       "               'answer': 'Bitcoin and Ethereum both offer unique advantages. Bitcoin was the first blockchain and has therefore seen broad adoption as a fair payment settlement solution. Ethereum was developed to meet the needs that Bitcoin created a demand for after disrupting the way that digital networks are architected and governed. Ethereum’s smart contracts make it much more than a payment solution. It has applications in supply chain tracking, energy and sustainability, real estate, government, and many other sectors. Given the current state of blockchain systems, Ethereum’s architecture most closely resembles what is required of a universal root chain that can provide decentralized and secure base layer settlement for interoperating blockchain networks.',\n",
       "               'id': '481acdd9'}],\n",
       "             'faba0305': [{'question': 'What is Byzantium Ethereum?',\n",
       "               'answer': 'In October 2017, Ethereum initiated a hard fork for its Byzantium update. Byzantium was part of Ethereum’s third-stage release, called Metropolis live. Byzantium brought nine Ethereum Improvement Protocols (EIPs) that improved privacy, scalability, and security throughout the network. The Byzantium upgrade was followed by the Constantinople hard fork in February 2019, which integrated five EIPs and reduced the block reward from 3 to 2 ETH.',\n",
       "               'id': 'faba0305'}],\n",
       "             '6343b601': [{'question': 'What is Proof of Stake (PoS) Ethereum?',\n",
       "               'answer': 'The Ethereum blockchain currently uses a Proof of Work (PoW) consensus algorithm, similar to the Bitcoin blockchain. Because of scalability and other issues, Ethereum now has plans to move to a Proof of Stake (PoS) system. PoS will solve issues related to mining, excessive energy consumption, access to mining hardware, and centralized mining pools. Vlad Zamfir, a lead developer of Casper (the original name for the PoS system) has pointed out that the 51% attack that blockchains developers fear would cost much more in failed attempts because attackers must risk their own stakes.',\n",
       "               'id': '6343b601'}],\n",
       "             'c1a4f1af': [{'question': 'What’s next for Ethereum?',\n",
       "               'answer': 'Serenity––also known as Ethereum 2.0––is the eventual and final iteration in Ethereum’s evolution. It will take place in multiple stages. Following Istanbul, the last planned hard fork for Ethereum, the Beacon Chain is expected to roll out in 2019 as the first phrase of Serenity. The Beacon Chain is a Proof of Stake blockchain that will be stood up alongside Ethereum’s original PoW chain to ensure the continuity of the chains. For a deeper dive into the upcoming stages of Ethereum’s evolution, read “The Roadmap to Serenity.”',\n",
       "               'id': 'c1a4f1af'}],\n",
       "             'c03ac963': [{'question': 'What is Ethereum mining?',\n",
       "               'answer': 'On the Ethereum blockchain, miners currently use a Proof of Work (PoW) algorithm to settle transactions. They are rewarded financially for their efforts. There are ongoing plans to make Ethereum a Proof of Stake (PoS) system. Proof of Stake dictates that two-thirds of validators must stake ETH on the next block, meaning the financial incentive is much riskier for potential malicious actors.',\n",
       "               'id': 'c03ac963'}],\n",
       "             '3abb7cc3': [{'question': 'How long does it take to mine Ethereum?',\n",
       "               'answer': 'Ethereum is mined in blocks. According to ethstats.io, the average Ethereum block time as of July 2019 is approximately 13 seconds.',\n",
       "               'id': '3abb7cc3'}],\n",
       "             '312dba9c': [{'question': 'What is the hashrate of Ethereum?',\n",
       "               'answer': 'Hashrate refers to the speed at which an Ethereum miner operates, specifically the number of hashes guessed per second for solving the nonce of a block of transactions. According to ethstats.io, the average Ethereum network hashrate as of July 2019 is 166.46 TH/s.',\n",
       "               'id': '312dba9c'}],\n",
       "             '145af05a': [{'question': 'Can I mine Ethereum?',\n",
       "               'answer': 'Mining Ethereum becomes increasingly difficult over time. Most miners use a mining pool, which allows participants to pool their hashing power. Currently, solo mining is very difficult––it can take years to find a single block. Mining pools however have proven to deliver consistent profits to participants.',\n",
       "               'id': '145af05a'}],\n",
       "             'e90e49cc': [{'question': 'Can my computer mine Ethereum?',\n",
       "               'answer': 'Your computer’s ability to mine Ethereum depends upon your GPU power. While dedicated mining hardware is often recommended, some powerful computers can contribute to a mining pool.',\n",
       "               'id': 'e90e49cc'}],\n",
       "             '3d60bdb7': [{'question': 'What is Ethereum difficulty?',\n",
       "               'answer': 'Ethereum difficulty refers to miners’ hashing function and the difficulty of finding a new block. At higher difficulties, it is harder for miners to find valid blocks. According to ethstats.io, the average difficulty of the Ethereum network as of July 2019 is 2.2075 PH.',\n",
       "               'id': '3d60bdb7'}],\n",
       "             'e373bc19': [{'question': 'What do you need to mine Ethereum?',\n",
       "               'answer': 'While there are cloud mining applications that offer people the opportunity to share in the profits of mining Ethereum, it is not a pure form of mining. This is more of an investment or rental option. Mining ETH alone is currently impractical, so most miners participate in mining pools, which generally proves more profitable. Dedicated mining hardware is advised even to mine as part of a pool.',\n",
       "               'id': 'e373bc19'}],\n",
       "             '0c354bb8': [{'question': 'Can you mine Ethereum on a laptop?',\n",
       "               'answer': 'Yes, it is possible to mine Ethereum using a laptop. You will need to install specific software for your OS. However, mining Ethereum on a personal computer is currently impractical. Many products are available with dedicated hardware specifically for mining. They are made to operate efficiently so that miners can maximize their profits.',\n",
       "               'id': '0c354bb8'}],\n",
       "             'dc6d4628': [{'question': 'Can you mine Ethereum on a Mac?',\n",
       "               'answer': 'Mining Ethereum on a Mac is possible. However, most miners use dedicated hardware.',\n",
       "               'id': 'dc6d4628'}],\n",
       "             '61ffef3f': [{'question': 'How much Ethereum can I mine in a day?',\n",
       "               'answer': 'The reward for mining Ethereum depends on several factors: your equipment, whether you participate in a mining pool, and the state of the blockchain. According to Alethio’s 2018 research report on mining pools, miners in the top four mining pools received approximately 0.04% payout. This payout is more lucrative than it seems considering that the top five pools were found to mine 84% of all newly found blocks. For example, Ethermine, the top mining pool for the week measured, found 11,235 blocks.Note: The questions above are based on Google search volume in the USA.',\n",
       "               'id': '61ffef3f'}]})"
      ]
     },
     "execution_count": 10,
     "metadata": {},
     "output_type": "execute_result"
    }
   ],
   "source": [
    "hashes"
   ]
  },
  {
   "cell_type": "markdown",
   "id": "e0390fb6-cc06-48d6-bbff-ef26b6af08e6",
   "metadata": {},
   "source": [
    "Idealnya, seharusnya sama jumlah hash_id dgn total documentnya"
   ]
  },
  {
   "cell_type": "code",
   "execution_count": 11,
   "id": "9dacc876-2b78-463d-8827-05a89da63239",
   "metadata": {},
   "outputs": [
    {
     "data": {
      "text/plain": [
       "(46, 46)"
      ]
     },
     "execution_count": 11,
     "metadata": {},
     "output_type": "execute_result"
    }
   ],
   "source": [
    "len(hashes), len(documents)"
   ]
  },
  {
   "cell_type": "markdown",
   "id": "5b9266bd-7a61-44fe-81d1-a785e7bb387f",
   "metadata": {},
   "source": [
    "Check document mana yg duplicate"
   ]
  },
  {
   "cell_type": "code",
   "execution_count": 12,
   "id": "930f48fa-41b7-4a43-963a-14b2f666186d",
   "metadata": {},
   "outputs": [],
   "source": [
    "for k, values in hashes.items():\n",
    "    if len(values) > 1:\n",
    "        print(k, len(values))"
   ]
  },
  {
   "cell_type": "code",
   "execution_count": 13,
   "id": "efd60e1b-a3b8-4f9a-b959-e1e6238796a6",
   "metadata": {},
   "outputs": [],
   "source": [
    "import json"
   ]
  },
  {
   "cell_type": "code",
   "execution_count": 14,
   "id": "0adc0855-db77-46d0-a631-552997e97e78",
   "metadata": {},
   "outputs": [],
   "source": [
    "with open('documents-crypto-with-ids.json', 'wt') as f_out:\n",
    "    json.dump(documents, f_out, indent=2)"
   ]
  },
  {
   "cell_type": "code",
   "execution_count": 17,
   "id": "a4260fa1-c153-4cba-bbb7-dade91c72f8f",
   "metadata": {},
   "outputs": [],
   "source": [
    "prompt_template = \"\"\"\n",
    "You emulate a people who's use our product to asking about cryptocurrency.\n",
    "Formulate 5 questions this people might ask based on a FAQ record. The record\n",
    "should contain the answer to the questions, and the questions should be complete and not too short.\n",
    "If possible, use as fewer words as possible from the record. \n",
    "\n",
    "The record:\n",
    "\n",
    "question: {question}\n",
    "answer: {answer}\n",
    "\n",
    "Provide the output in parsable JSON without using code blocks:\n",
    "\n",
    "[\"question1\", \"question2\", ..., \"question5\"]\n",
    "\"\"\".strip()"
   ]
  },
  {
   "cell_type": "code",
   "execution_count": 18,
   "id": "80cf7062-a532-4597-834c-dc196c55713a",
   "metadata": {},
   "outputs": [],
   "source": [
    "from openai import OpenAI\n",
    "client = OpenAI()"
   ]
  },
  {
   "cell_type": "code",
   "execution_count": 19,
   "id": "a413b1d5-836c-4c6c-b19f-ec1a709d7e89",
   "metadata": {},
   "outputs": [],
   "source": [
    "def generate_questions(doc):\n",
    "    prompt = prompt_template.format(**doc)\n",
    "\n",
    "    response = client.chat.completions.create(\n",
    "        model='gpt-4o',\n",
    "        messages=[{\"role\": \"user\", \"content\": prompt}]\n",
    "    )\n",
    "\n",
    "    json_response = response.choices[0].message.content\n",
    "    return json_response"
   ]
  },
  {
   "cell_type": "code",
   "execution_count": 20,
   "id": "469c5ae9-6a2a-4d1f-a6b1-79bc5e393e23",
   "metadata": {},
   "outputs": [],
   "source": [
    "questions = generate_questions(documents[0])"
   ]
  },
  {
   "cell_type": "code",
   "execution_count": 21,
   "id": "24d9cc33-c95b-407c-babb-96553ccb21e6",
   "metadata": {},
   "outputs": [
    {
     "data": {
      "text/plain": [
       "'[\"What is a distributed, cryptographically-secure database?\", \"How can network participants establish a trusted and immutable record?\", \"Do blockchains require intermediaries for validating transactions?\", \"What additional functions can a blockchain execute beyond transaction settlement?\", \"What was the first blockchain and what advancements did it incorporate?\"]'"
      ]
     },
     "execution_count": 21,
     "metadata": {},
     "output_type": "execute_result"
    }
   ],
   "source": [
    "questions"
   ]
  },
  {
   "cell_type": "code",
   "execution_count": 22,
   "id": "9e9f1546-130f-46aa-923e-457a217a8bf7",
   "metadata": {},
   "outputs": [
    {
     "data": {
      "text/plain": [
       "{'question': 'What is a blockchain?',\n",
       " 'answer': 'A blockchain is a distributed, cryptographically-secure database structure that allows network participants to establish a trusted and immutable record of transactional data without the need for intermediaries. A blockchain can execute a variety of functions beyond transaction settlement, such as smart contracts. Smart contracts are digital agreements that are embedded in code and that can have limitless formats and conditions. Blockchains have proven themselves as superior solutions for securely coordinating data, but they are capable of much more, including tokenization, incentive design, attack-resistance, and reducing counterparty risk. The very first blockchain was the Bitcoin blockchain, which itself was a culmination of over a century of advancements in cryptography and database technology.',\n",
       " 'id': 'ccb39dc7'}"
      ]
     },
     "execution_count": 22,
     "metadata": {},
     "output_type": "execute_result"
    }
   ],
   "source": [
    "documents[0]"
   ]
  },
  {
   "cell_type": "markdown",
   "id": "241bc5b0-672c-47bc-901d-a046f1446b99",
   "metadata": {},
   "source": [
    "Now, we will generate alternatives questions to all questions we have"
   ]
  },
  {
   "cell_type": "code",
   "execution_count": 24,
   "id": "3fc4c5c1-cb5d-43e9-849a-2906a63d1f47",
   "metadata": {},
   "outputs": [],
   "source": [
    "from tqdm.auto import tqdm\n",
    "results = {}"
   ]
  },
  {
   "cell_type": "code",
   "execution_count": 25,
   "id": "b045362c-3fc5-4a55-b6e8-38a942e59835",
   "metadata": {},
   "outputs": [
    {
     "data": {
      "application/vnd.jupyter.widget-view+json": {
       "model_id": "42f2ec0953584bb68920ad0ca87b0897",
       "version_major": 2,
       "version_minor": 0
      },
      "text/plain": [
       "  0%|          | 0/46 [00:00<?, ?it/s]"
      ]
     },
     "metadata": {},
     "output_type": "display_data"
    }
   ],
   "source": [
    "# for doc in tqdm(documents): \n",
    "#     doc_id = doc['id']\n",
    "#     if doc_id in results:\n",
    "#         continue\n",
    "\n",
    "#     questions = generate_questions(doc)\n",
    "#     results[doc_id] = questions"
   ]
  },
  {
   "cell_type": "code",
   "execution_count": 29,
   "id": "f58acbcf-2490-4247-8059-abe582a5b291",
   "metadata": {},
   "outputs": [
    {
     "data": {
      "text/plain": [
       "'[\\n    \"What is a blockchain?\",\\n    \"How is a blockchain different from traditional databases?\",\\n    \"Can you explain what smart contracts are in the context of a blockchain?\",\\n    \"What are some of the additional functions that blockchains can execute besides transaction settlements?\",\\n    \"How did the Bitcoin blockchain contribute to blockchain technology?\"\\n]'"
      ]
     },
     "execution_count": 29,
     "metadata": {},
     "output_type": "execute_result"
    }
   ],
   "source": [
    "results['ccb39dc7']"
   ]
  },
  {
   "cell_type": "code",
   "execution_count": 30,
   "id": "0b076f73-b7a3-4df0-a1c4-927df4996151",
   "metadata": {},
   "outputs": [],
   "source": [
    "parsed_resulst = {}\n",
    "\n",
    "for doc_id, json_questions in results.items():\n",
    "    parsed_resulst[doc_id] = json.loads(json_questions)"
   ]
  },
  {
   "cell_type": "code",
   "execution_count": 31,
   "id": "1d898380-95c2-4f24-a3e4-477779a99c43",
   "metadata": {},
   "outputs": [],
   "source": [
    "doc_index = {d['id']: d for d in documents}"
   ]
  },
  {
   "cell_type": "code",
   "execution_count": 32,
   "id": "bf87f6ba-06fc-423b-9b25-2a4d83b8773d",
   "metadata": {},
   "outputs": [
    {
     "data": {
      "text/plain": [
       "{'ccb39dc7': {'question': 'What is a blockchain?',\n",
       "  'answer': 'A blockchain is a distributed, cryptographically-secure database structure that allows network participants to establish a trusted and immutable record of transactional data without the need for intermediaries. A blockchain can execute a variety of functions beyond transaction settlement, such as smart contracts. Smart contracts are digital agreements that are embedded in code and that can have limitless formats and conditions. Blockchains have proven themselves as superior solutions for securely coordinating data, but they are capable of much more, including tokenization, incentive design, attack-resistance, and reducing counterparty risk. The very first blockchain was the Bitcoin blockchain, which itself was a culmination of over a century of advancements in cryptography and database technology.',\n",
       "  'id': 'ccb39dc7'},\n",
       " '667d9237': {'question': 'What is blockchain software?',\n",
       "  'answer': 'Blockchain software is like any other software. The first of its kind was Bitcoin, which was released as open source software, making it available to anyone to use or change. There are a wide variety of efforts across the blockchain ecosystem to improve upon Bitcoin’s original software. Ethereum has its own open source blockchain software. Some blockchain software is proprietary and not available to the public.',\n",
       "  'id': '667d9237'},\n",
       " '84efe905': {'question': 'What is a blockchain database?',\n",
       "  'answer': 'Historically, databases have incorporated a centralized client-server architecture, in which a sole authority controls the central server. This design means that data security, alteration, and deletion rests with a single point of failure. The decentralized architecture of blockchain databases emerged as a solution for many of the weaknesses of centralized database architecture. A blockchain network consists of a large number of distributed nodes––voluntary participants who must reach consensus and maintain a single transactional record together.',\n",
       "  'id': '84efe905'},\n",
       " 'e3753a49': {'question': 'What is a blockchain system?',\n",
       "  'answer': 'A blockchain system refers to all the aspects and features that go into a particular blockchain, everything from the consensus algorithm to the state machine to cryptographic functions. As Andreas Antonopoulus and Gavin Wood note in Mastering Ethereum, there are “a huge variety of blockchains with different properties”––qualifiers “help us understand the characteristics of the blockchain in question, such as open, public, decentralized, neutral, and censorship-resistant.”',\n",
       "  'id': 'e3753a49'},\n",
       " 'cb10bf88': {'question': 'How does a blockchain work?',\n",
       "  'answer': 'When a digital transaction occurs in a blockchain network, it is grouped together in a cryptographically-secure “block” with other transactions that have occurred in the same time frame. The block is then broadcast to the network. A blockchain network is comprised of nodes or participants who validate and relay transaction information. The block of transactions is verified by participants called miners, who use computing power to solve a cryptographic puzzle and validate the block of transactions. The first miner to solve and validate the block is rewarded. Each verified block is connected to the previously verified block, creating a chain of blocks. One important cryptographic underpinning of blockchains is the hash function. Hashing assigns a fixed value to a string that is inputted into the system. Blockchain hashing power results in a deterministic, quickly-computable, and preimage-resistant system. Explore our knowledge base to learn more about how a blockchain works.',\n",
       "  'id': 'cb10bf88'},\n",
       " 'e0db44d0': {'question': 'What is a blockchain application?',\n",
       "  'answer': 'Blockchain applications are comparable to conventional software applications, except they implement a decentralized architecture and cryptoeconomic systems to increase security, foster trust, tokenize assets, and design new network incentives. Here are over 90 Ethereum apps that are currently being used across the Ethereum blockchain ecosystem, from prediction markets to smart legal agreements.',\n",
       "  'id': 'e0db44d0'},\n",
       " '8d819432': {'question': 'What are the benefits of blockchain technology?',\n",
       "  'answer': 'Blockchain technology has a wide variety of benefits, for both global enterprises and local communities. The most commonly cited benefits of a blockchain are trusted data coordination, attack-resistance, shared IT infrastructure, tokenization, and built-in incentivization.',\n",
       "  'id': '8d819432'},\n",
       " '11c0cfe7': {'question': 'What is the blockchain revolution?',\n",
       "  'answer': 'Blockchain is considered a disruptive technology because of its ability to safeguard personal information, reduce intermediaries, unlock digital assets, and potentially open up the global economy to millions more participants. Sometimes called the Trust Machine, blockchain technology is bringing transparency and security to digital networks across countless industries. In many ways, the blockchain revolution can be considered a revolution in trust.',\n",
       "  'id': '11c0cfe7'},\n",
       " 'caf8ea07': {'question': 'What is decentralized finance (DeFi)?',\n",
       "  'answer': 'Decentralized finance—often called DeFi or open finance—refers to the economic paradigm shift enabled by decentralized technologies, particularly blockchain networks. DeFi signals the shift from a historically centralized and closed financial system toward a universally accessible economy that is based on open protocols that are interoperable, programmable, and composable. From streamlined and secure payment networks to automated loans to USD-pegged stablecoins, decentralized finance has emerged as one of the most active sectors in the blockchain space. Some of the defining factors of a DeFi application include permissionless architecture (anyone can participate), transparent and auditable code, and interoperability with other DeFi products. DeFi Score offers a single, consistently comparable value for measuring DeFi platform risk.',\n",
       "  'id': 'caf8ea07'},\n",
       " '83f912dd': {'question': 'What is a block in a blockchain?',\n",
       "  'answer': 'The “block” in a blockchain refers to a block of transactions that has been broadcast to the network. The “chain” refers to a string of these blocks. When a new block of transactions is validated by the network, it is attached to the end of an existing chain. This chain of blocks is an ever-growing ledger of transactions that the network has validated. We call this single, agreed-upon history of transactions a blockchain. Only one block can exist at a given chain height. There are several ways to add new blocks to an existing chain. These are often termed “proofs,” i.e. Proof of Work (PoW), Proof of Stake (PoS), and Proof of Authority (PoA). All involve cryptographic algorithms with varying degrees of complexity.',\n",
       "  'id': '83f912dd'},\n",
       " '04090abf': {'question': 'What is block time?',\n",
       "  'answer': 'Depending upon how a particular blockchain protocol was developed, the time that it takes for a block to be added to the canonical chain can vary widely. A blockchain is a linear construct in that every new block occurs at a later time than the one that preceded it and cannot be undone. A blockchain’s linearity serves as an ideal form of validation. According to ethstats.io as of July 2019, for the Ethereum blockchain, new blocks are added approximately every 14 seconds.',\n",
       "  'id': '04090abf'},\n",
       " '057dc44a': {'question': 'What is distributed ledger technology?',\n",
       "  'answer': 'Distributed ledger technology is a broad category that encompasses blockchain technology. A distributed ledger is just what its name implies. Instead of accounting for data through one centralized computer, distributed ledger technology uses many participants in a network to maintain a digital record. Blockchain technology supplements a distributed ledger with cryptographic functions and a consensus algorithm to enable greater incentive design, security, accountability, cooperation, and trust.',\n",
       "  'id': '057dc44a'},\n",
       " 'bcd99661': {'question': 'What is a blockchain wallet?',\n",
       "  'answer': 'A blockchain wallet contains the public key for others to transfer cryptocurrency to your address and the private key so you can securely access your own digital assets. A blockchain wallet usually accompanies node hosting and stores cryptocurrencies on your computer. The safest place for storing digital assets is offline, what is often called “cold storage.” Read “7 Pro Tips for Keeping Your Crypto Safe” for some best practices on protecting your digital assets.',\n",
       "  'id': 'bcd99661'},\n",
       " 'e32e256b': {'question': 'What is blockchain programming?',\n",
       "  'answer': 'As a new technology that makes use of global digital networks, the need for blockchain programmers is immense, and in recent years, programmers have flocked to the blockchain space. A key aspect that distinguishes blockchain programming from other Internet ventures is the focus on security and cryptography. Consensys Academy’s Developer Program offers programmers from any background the chance to become a blockchain expert in weeks. Industry experts from around the world teach the course, which focuses on Ethereum blockchain development.',\n",
       "  'id': 'e32e256b'},\n",
       " '7d5858ff': {'question': 'What is a blockchain company?',\n",
       "  'answer': 'A blockchain company is simply a company that is invested in and/or developing blockchain technology. State of the Dapps ranks blockchain-based decentralized applications by user activity and Forbes recently released a report covering the top 50 billion-dollar companies exploring blockchain.',\n",
       "  'id': '7d5858ff'},\n",
       " '6e5e130c': {'question': 'What is a private blockchain?',\n",
       "  'answer': 'Blockchains began as open source, public efforts. Private blockchains were developed as corporations and other administrative bodies began to realize the benefits of distributed ledger technology, particularly within systems of a private enterprise and when managing sensitive transaction data. With increasingly robust and modular privacy and permissioning solutions, industry experts anticipate that private and public blockchain networks will converge.',\n",
       "  'id': '6e5e130c'},\n",
       " '4c6c08e5': {'question': 'What are zk-SNARKs?',\n",
       "  'answer': 'zk-SNARK is an acryonym for zero-knowledge succinct non-interactive argument of knowledge, a cryptographic proof system that enables a user to verify a transaction without revealing the actual data of the transaction, and without interacting with the user who published the transaction. In the context of a blockchain, zk-SNARKs allow users to maintain private transactions, while still validating the transactions according to the network’s consensus algorithm. For a technical walkthrough of zk-SNARKs, check out our introduction to zk-SNARKs.',\n",
       "  'id': '4c6c08e5'},\n",
       " '8fd8812d': {'question': 'What is Ethereum?',\n",
       "  'answer': 'In 2015, the Ethereum blockchain launched as a much more versatile version of the Bitcoin payment system’s underlying blockchain technology. Ethereum is a decentralized, open source, and distributed computing platform that enables the creation of smart contracts and decentralized applications, also known as dapps. Smart contracts are computer protocols that facilitate, verify, or enforce the negotiation and performance of some sort of agreement. Ethereum brought the first practical solution for smart contracts to the blockchain space.',\n",
       "  'id': '8fd8812d'},\n",
       " 'a4e48bdd': {'question': 'How does Ethereum work?',\n",
       "  'answer': 'Like the Bitcoin blockchain, Ethereum utilizes nodes that are operated voluntarily in order to verify transactions in the network. Nodes can contain the entirety or a segment of Ethereum transaction history, the most recent information about the state of smart contracts, the balances of accounts, and more. At the foundation of Ethereum is the Ethereum Virtual Machine (EVM), which is the executable and trustless environment for smart contracts: computer protocols that facilitate, verify, and enforce the negotiation and performance of some sort of digital agreement. The EVM executes a contract with whatever rules the developer initially programmed, such as sending money from Alice to Bob. The EVM executes these programs through a bytecode language. Ethereum developers are able to use Ethereum programming languages such as Solidity and others to write smart contracts and build decentralized applications.',\n",
       "  'id': 'a4e48bdd'},\n",
       " '241bbd9a': {'question': 'What is an Ethereum block?',\n",
       "  'answer': 'A “block” in the Ethereum blockchain refers to a block of transactions that has been broadcast to the network. The Ethereum mainnet currently uses the Proof of Work consensus algorithm to verify blocks of transactions.',\n",
       "  'id': '241bbd9a'},\n",
       " 'e97d2b65': {'question': 'What is an Ethereum smart contract?',\n",
       "  'answer': 'Ethereum pioneered practical smart contracts for the blockchain ecosystem. A smart contract is essentially a program coded for a specific purpose. Ethereum-based smart contracts have numerous applications. In banking and finance, smart contracts can help automate claims processing and enable real-time enforcement of regulatory control limits. In supply chain management, smart contracts are used to enforce asset tracking processes, as well as automate compliance and reporting. Smart contracts have limitless formats in order to support a wide range of industries.',\n",
       "  'id': 'e97d2b65'},\n",
       " 'a497c8e2': {'question': 'What is an Ethereum client?',\n",
       "  'answer': 'An Ethereum client is a software application that implements the technical specification defined in the Ethereum Yellow Paper or the EEA specification (for enterprise applications) and refers to any node that is able to parse and verify the blockchain, its smart contracts, or anything related. Open standards and interoperability enable Ethereum clients to communicate over the peer-to-peer network with other Ethereum clients, meaning that they all “speak” the same protocol and follow the same rules. Popular Ethereum clients include Quorum by J.P. Morgan, Parity, Geth, and Hyperledger Besu, which was built by the protocol engineering team at PegaSys. Hyperledger Besu, which was developed for enterprise use cases, includes a robust set of permissioning features and operates across both public and private chains. PegaSys Plus, a commercial distribution of Besu, has additional plugin features and support, including encryption at rest, advanced monitoring, and event streaming.',\n",
       "  'id': 'a497c8e2'},\n",
       " '320c4aa2': {'question': 'What is Ethereum backed by?',\n",
       "  'answer': 'Ethereum is an open source project, which means that anyone can contribute to the codebase and that the network is open to anyone willing to participate. Therefore, Ethereum is owned by no one and everyone. There are many efforts in the Ethereum ecosystem to make open source development economically sustainable for developers. MolochDAO is a crowdsourced funding initiative to support Ethereum infrastructure projects. From its bounties explorer to its Patreon-like Grants Program, Gitcoin is also one of the most notable and multi-pronged efforts supporting open source maintainers in the blockchain space.',\n",
       "  'id': '320c4aa2'},\n",
       " 'd184e510': {'question': 'What is ether (ETH)?',\n",
       "  'answer': 'Ether is Ethereum’s native token and the fuel that powers the Ethereum blockchain. On Ethereum, each operation (many of which can be combined to create a single unique smart contract or transaction) requires a certain amount of computing energy to perform. Because miners must use energy to complete these operations, a unit of measurement was created to monitor and compensate miners for the work they spend running transactions and smart contracts. This unit of measurement is called gas. Gas is a unit of measurement that is unique to the Ethereum blockchain and that measures the computational work required to run transactions or smart contracts within the EVM. The more energy required to run an operation (i.e. a more complex piece of code), the more gas is required. The value of each unit of gas is expressed in ether. Ether therefore provides an incentive for miners to validate blocks of transactions and for developers to write concise, quality code. ETH is the symbol for ether. Note that “eth” is also a command line used for importing the Ethereum wallet.',\n",
       "  'id': 'd184e510'},\n",
       " 'c70131d0': {'question': 'What is an ETH address?',\n",
       "  'answer': 'All cryptocurrencies require addresses, or public identifiers, to send and receive funds. An ETH address is specific to Ethereum’s ether currency. Miners also need to set up an “etherbase,” which is a set address that will collect earnings from mining. “How to Store Digital Assets on Ethereum” is a helpful walkthrough for understanding cryptocurrency wallets, seed phrases, and security best practices for managing digital assets.',\n",
       "  'id': 'c70131d0'},\n",
       " '12f4a670': {'question': 'How can I earn ether (ETH)?',\n",
       "  'answer': 'There are a variety of ways to earn ETH, both on and off the Ethereum blockchain. ETH is one of the most popularly traded cryptocurrencies and available on most exchanges. ETH is also becoming an increasingly popular way to compensate freelancers. Global freelance marketplaces like Bounties Network allow developers, designers, translators, and users from various disciplines to earn ETH for fulfilling tasks. Of course, mining Ethereum and supporting the network is one way to be rewarded in ETH.',\n",
       "  'id': '12f4a670'},\n",
       " '86649307': {'question': 'How long does it take to transfer ether?',\n",
       "  'answer': 'Ethereum confirmation times vary widely depending upon the amount of gas one is willing to spend, along with other market factors. You can view the median wait times at ethgasstation.info.',\n",
       "  'id': '86649307'},\n",
       " 'd1cb650b': {'question': 'What is the gas limit in Ethereum?',\n",
       "  'answer': 'The Ethereum gas limit is one of three core concepts of ether. The others are cost and price. Limits are set as the maximum payment one is willing to incur to complete a transaction. If a gas limit is set too low, it is possible that the transaction will fail. This is because the miner who attempts the transaction will go on and execute operations until the gas limit is reached. If additional operations are required, then the miner keeps the gas as fees for work done and the system records the transaction as “failed.” Gas limits are important because they protect both users and miners from faulty codes and network attacks. They are relevant because the dynamic nature of the Ethereum blockchain is comprised of a variety of smart contract operational levels. Not all transactions are the same and therefore require different amounts of gas to fuel their operations.',\n",
       "  'id': 'd1cb650b'},\n",
       " 'f25d123f': {'question': 'What is Ethereum coded in?',\n",
       "  'answer': 'Ethereum smart contracts can be coded in Solidity, Serpent, LLL, and Mutan. These are contract-oriented, high-level languages. Their purpose is to target the Ethereum Virtual Machine (EVM) to provide a means for smart contracts. The Ethereum protocol has been developed using a variety of languages, from C++ to Python, Ruby, Go, Java, Rust, and more.',\n",
       "  'id': 'f25d123f'},\n",
       " '3c0fedb9': {'question': 'What is Ethereum used for?',\n",
       "  'answer': 'There are a wide range of Ethereum use cases and applications, from payment settlement to supply chain tracking to digital identity management. Ethereum’s flexibility, modularity, agility, and scalability has attracted thousands of developers to the ecosystem, as well as global enterprises that are interested in deploying blockchain solutions to meet critical business needs.',\n",
       "  'id': '3c0fedb9'},\n",
       " '80161bff': {'question': 'What is the Enterprise Ethereum Alliance?',\n",
       "  'answer': 'The Enterprise Ethereum Alliance (EEA) was formed in 2017 to accelerate the adoption of Ethereum in enterprise endeavors and to provide global standards for Enterprise Ethereum development. The Alliance uses an open architecture for testing and certification and focuses on providing resources for trust, privacy, and performance to foster a community that supports open source blockchain solutions. The EEA recently released their Enterprise Ethereum Client Specification V3.',\n",
       "  'id': '80161bff'},\n",
       " '284aafbf': {'question': 'What’s the difference between Bitcoin and Ethereum?',\n",
       "  'answer': 'Many of the underlying principles of Bitcoin and Ethereum are the same. They share many cryptographic functions common to blockchain technology, and both blockchain networks currently use a Proof of Work consensus algorithm. However, Ethereum was developed to address opportunities that are beyond the scope of the Bitcoin blockchain. The key element that distinguishes Ethereum from Bitcoin is smart contracts––agreements that are embedded in code so that they can automatically execute. Among the other fundamental differences between Bitcoin and Ethereum are their programming languages. Bitcoin uses a stack-based language while Ethereum uses a Turing-complete language. Their block times and hashing algorithms are also different. Ethereum’s core developers believe that moving Ethereum to a Proof of Stake system will make its smart contract-based network more efficient and secure.',\n",
       "  'id': '284aafbf'},\n",
       " '481acdd9': {'question': 'What’s better, Bitcoin or Ethereum?',\n",
       "  'answer': 'Bitcoin and Ethereum both offer unique advantages. Bitcoin was the first blockchain and has therefore seen broad adoption as a fair payment settlement solution. Ethereum was developed to meet the needs that Bitcoin created a demand for after disrupting the way that digital networks are architected and governed. Ethereum’s smart contracts make it much more than a payment solution. It has applications in supply chain tracking, energy and sustainability, real estate, government, and many other sectors. Given the current state of blockchain systems, Ethereum’s architecture most closely resembles what is required of a universal root chain that can provide decentralized and secure base layer settlement for interoperating blockchain networks.',\n",
       "  'id': '481acdd9'},\n",
       " 'faba0305': {'question': 'What is Byzantium Ethereum?',\n",
       "  'answer': 'In October 2017, Ethereum initiated a hard fork for its Byzantium update. Byzantium was part of Ethereum’s third-stage release, called Metropolis live. Byzantium brought nine Ethereum Improvement Protocols (EIPs) that improved privacy, scalability, and security throughout the network. The Byzantium upgrade was followed by the Constantinople hard fork in February 2019, which integrated five EIPs and reduced the block reward from 3 to 2 ETH.',\n",
       "  'id': 'faba0305'},\n",
       " '6343b601': {'question': 'What is Proof of Stake (PoS) Ethereum?',\n",
       "  'answer': 'The Ethereum blockchain currently uses a Proof of Work (PoW) consensus algorithm, similar to the Bitcoin blockchain. Because of scalability and other issues, Ethereum now has plans to move to a Proof of Stake (PoS) system. PoS will solve issues related to mining, excessive energy consumption, access to mining hardware, and centralized mining pools. Vlad Zamfir, a lead developer of Casper (the original name for the PoS system) has pointed out that the 51% attack that blockchains developers fear would cost much more in failed attempts because attackers must risk their own stakes.',\n",
       "  'id': '6343b601'},\n",
       " 'c1a4f1af': {'question': 'What’s next for Ethereum?',\n",
       "  'answer': 'Serenity––also known as Ethereum 2.0––is the eventual and final iteration in Ethereum’s evolution. It will take place in multiple stages. Following Istanbul, the last planned hard fork for Ethereum, the Beacon Chain is expected to roll out in 2019 as the first phrase of Serenity. The Beacon Chain is a Proof of Stake blockchain that will be stood up alongside Ethereum’s original PoW chain to ensure the continuity of the chains. For a deeper dive into the upcoming stages of Ethereum’s evolution, read “The Roadmap to Serenity.”',\n",
       "  'id': 'c1a4f1af'},\n",
       " 'c03ac963': {'question': 'What is Ethereum mining?',\n",
       "  'answer': 'On the Ethereum blockchain, miners currently use a Proof of Work (PoW) algorithm to settle transactions. They are rewarded financially for their efforts. There are ongoing plans to make Ethereum a Proof of Stake (PoS) system. Proof of Stake dictates that two-thirds of validators must stake ETH on the next block, meaning the financial incentive is much riskier for potential malicious actors.',\n",
       "  'id': 'c03ac963'},\n",
       " '3abb7cc3': {'question': 'How long does it take to mine Ethereum?',\n",
       "  'answer': 'Ethereum is mined in blocks. According to ethstats.io, the average Ethereum block time as of July 2019 is approximately 13 seconds.',\n",
       "  'id': '3abb7cc3'},\n",
       " '312dba9c': {'question': 'What is the hashrate of Ethereum?',\n",
       "  'answer': 'Hashrate refers to the speed at which an Ethereum miner operates, specifically the number of hashes guessed per second for solving the nonce of a block of transactions. According to ethstats.io, the average Ethereum network hashrate as of July 2019 is 166.46 TH/s.',\n",
       "  'id': '312dba9c'},\n",
       " '145af05a': {'question': 'Can I mine Ethereum?',\n",
       "  'answer': 'Mining Ethereum becomes increasingly difficult over time. Most miners use a mining pool, which allows participants to pool their hashing power. Currently, solo mining is very difficult––it can take years to find a single block. Mining pools however have proven to deliver consistent profits to participants.',\n",
       "  'id': '145af05a'},\n",
       " 'e90e49cc': {'question': 'Can my computer mine Ethereum?',\n",
       "  'answer': 'Your computer’s ability to mine Ethereum depends upon your GPU power. While dedicated mining hardware is often recommended, some powerful computers can contribute to a mining pool.',\n",
       "  'id': 'e90e49cc'},\n",
       " '3d60bdb7': {'question': 'What is Ethereum difficulty?',\n",
       "  'answer': 'Ethereum difficulty refers to miners’ hashing function and the difficulty of finding a new block. At higher difficulties, it is harder for miners to find valid blocks. According to ethstats.io, the average difficulty of the Ethereum network as of July 2019 is 2.2075 PH.',\n",
       "  'id': '3d60bdb7'},\n",
       " 'e373bc19': {'question': 'What do you need to mine Ethereum?',\n",
       "  'answer': 'While there are cloud mining applications that offer people the opportunity to share in the profits of mining Ethereum, it is not a pure form of mining. This is more of an investment or rental option. Mining ETH alone is currently impractical, so most miners participate in mining pools, which generally proves more profitable. Dedicated mining hardware is advised even to mine as part of a pool.',\n",
       "  'id': 'e373bc19'},\n",
       " '0c354bb8': {'question': 'Can you mine Ethereum on a laptop?',\n",
       "  'answer': 'Yes, it is possible to mine Ethereum using a laptop. You will need to install specific software for your OS. However, mining Ethereum on a personal computer is currently impractical. Many products are available with dedicated hardware specifically for mining. They are made to operate efficiently so that miners can maximize their profits.',\n",
       "  'id': '0c354bb8'},\n",
       " 'dc6d4628': {'question': 'Can you mine Ethereum on a Mac?',\n",
       "  'answer': 'Mining Ethereum on a Mac is possible. However, most miners use dedicated hardware.',\n",
       "  'id': 'dc6d4628'},\n",
       " '61ffef3f': {'question': 'How much Ethereum can I mine in a day?',\n",
       "  'answer': 'The reward for mining Ethereum depends on several factors: your equipment, whether you participate in a mining pool, and the state of the blockchain. According to Alethio’s 2018 research report on mining pools, miners in the top four mining pools received approximately 0.04% payout. This payout is more lucrative than it seems considering that the top five pools were found to mine 84% of all newly found blocks. For example, Ethermine, the top mining pool for the week measured, found 11,235 blocks.Note: The questions above are based on Google search volume in the USA.',\n",
       "  'id': '61ffef3f'}}"
      ]
     },
     "execution_count": 32,
     "metadata": {},
     "output_type": "execute_result"
    }
   ],
   "source": [
    "doc_index"
   ]
  },
  {
   "cell_type": "code",
   "execution_count": 33,
   "id": "99bf7277-87ee-4530-8ff5-4982e31c81b3",
   "metadata": {},
   "outputs": [],
   "source": [
    "final_results = []\n",
    "\n",
    "for doc_id, questions in parsed_resulst.items():\n",
    "    for q in questions:\n",
    "        final_results.append((q, doc_id))"
   ]
  },
  {
   "cell_type": "code",
   "execution_count": 34,
   "id": "68c5c6ee-f4a4-4982-a350-79283aa3a4f1",
   "metadata": {},
   "outputs": [
    {
     "data": {
      "text/plain": [
       "[('What is a blockchain?', 'ccb39dc7'),\n",
       " ('How is a blockchain different from traditional databases?', 'ccb39dc7'),\n",
       " ('Can you explain what smart contracts are in the context of a blockchain?',\n",
       "  'ccb39dc7'),\n",
       " ('What are some of the additional functions that blockchains can execute besides transaction settlements?',\n",
       "  'ccb39dc7'),\n",
       " ('How did the Bitcoin blockchain contribute to blockchain technology?',\n",
       "  'ccb39dc7'),\n",
       " ('What is blockchain software?', '667d9237'),\n",
       " ('What was the first blockchain software?', '667d9237'),\n",
       " (\"Is Bitcoin's blockchain software open source?\", '667d9237'),\n",
       " ('Does Ethereum have its own blockchain software?', '667d9237'),\n",
       " ('Are all blockchain software efforts publicly available?', '667d9237'),\n",
       " ('questions', '84efe905'),\n",
       " ('answers', '84efe905'),\n",
       " ('What does a blockchain system encompass?', 'e3753a49'),\n",
       " ('Who are some experts that mention the variety of blockchains?', 'e3753a49'),\n",
       " ('What can help us understand the characteristics of a blockchain?',\n",
       "  'e3753a49'),\n",
       " ('What are some qualifiers that describe blockchains?', 'e3753a49'),\n",
       " ('What are the different aspects that are part of a blockchain system?',\n",
       "  'e3753a49'),\n",
       " ('How are digital transactions grouped in a blockchain network?', 'cb10bf88'),\n",
       " ('What role do nodes play in a blockchain network?', 'cb10bf88'),\n",
       " ('Who are miners, and what do they do?', 'cb10bf88'),\n",
       " ('How is a block of transactions connected to the previous one?', 'cb10bf88'),\n",
       " ('What is a hash function in the context of blockchain?', 'cb10bf88'),\n",
       " ('What differentiates blockchain applications from conventional software applications?',\n",
       "  'e0db44d0'),\n",
       " ('How does a decentralized architecture benefit blockchain applications?',\n",
       "  'e0db44d0'),\n",
       " ('What are cryptoeconomic systems in the context of blockchain applications?',\n",
       "  'e0db44d0'),\n",
       " ('Can you give examples of blockchain applications currently used on the Ethereum ecosystem?',\n",
       "  'e0db44d0'),\n",
       " ('What roles do tokenizing assets and new network incentives play in blockchain applications?',\n",
       "  'e0db44d0'),\n",
       " ('What advantages does blockchain provide?', '8d819432'),\n",
       " ('How does blockchain benefit organizations?', '8d819432'),\n",
       " ('Why is blockchain considered secure?', '8d819432'),\n",
       " ('How does blockchain facilitate data sharing?', '8d819432'),\n",
       " ('What incentivization mechanisms are built into blockchain?', '8d819432'),\n",
       " ('What makes blockchain a disruptive technology?', '11c0cfe7'),\n",
       " ('How does blockchain safeguard personal information?', '11c0cfe7'),\n",
       " ('Why is blockchain called the Trust Machine?', '11c0cfe7'),\n",
       " ('What impact does blockchain have on intermediaries?', '11c0cfe7'),\n",
       " ('How does blockchain affect the global economy?', '11c0cfe7'),\n",
       " ('What does DeFi stand for and what does it refer to?', 'caf8ea07'),\n",
       " ('Can anyone participate in DeFi applications, and what makes this possible?',\n",
       "  'caf8ea07'),\n",
       " ('What elements define a DeFi application?', 'caf8ea07'),\n",
       " ('How has DeFi impacted the financial system?', 'caf8ea07'),\n",
       " ('What is the purpose of DeFi Score?', 'caf8ea07'),\n",
       " (\"What does the term 'block' refer to in blockchain technology?\", '83f912dd'),\n",
       " ('How is a new block added to an existing blockchain?', '83f912dd'),\n",
       " ('What ensures that only one block can exist at a given chain height?',\n",
       "  '83f912dd'),\n",
       " ('How does the network validate a new block of transactions?', '83f912dd'),\n",
       " ('What are some methods used to add new blocks to a blockchain?', '83f912dd'),\n",
       " ('What is block time in cryptocurrency?', '04090abf'),\n",
       " ('How long does it take to add a new block on Ethereum?', '04090abf'),\n",
       " ('Can the time to add a block vary on different blockchains?', '04090abf'),\n",
       " ('Is a blockchain a linear construct?', '04090abf'),\n",
       " ('Why is linearity important in blockchain validation?', '04090abf'),\n",
       " ('What is distributed ledger technology?', '057dc44a'),\n",
       " ('How does distributed ledger technology maintain a digital record?',\n",
       "  '057dc44a'),\n",
       " ('How does blockchain technology enhance a distributed ledger?', '057dc44a'),\n",
       " ('What functions does blockchain technology add to a distributed ledger?',\n",
       "  '057dc44a'),\n",
       " ('Why is blockchain technology important for security and trust?',\n",
       "  '057dc44a'),\n",
       " ('What keys do a blockchain wallet contain?', 'bcd99661'),\n",
       " ('How can cryptocurrency be transferred to your address?', 'bcd99661'),\n",
       " ('Where is the safest place to store digital assets?', 'bcd99661'),\n",
       " ('What is the purpose of a private key in a blockchain wallet?', 'bcd99661'),\n",
       " ('What additional features often accompany a blockchain wallet?', 'bcd99661'),\n",
       " ('What distinguishes blockchain programming from other Internet ventures?',\n",
       "  'e32e256b'),\n",
       " ('What has caused the demand for blockchain programmers to grow recently?',\n",
       "  'e32e256b'),\n",
       " ('How long does it take to become a blockchain expert through Consensys Academy?',\n",
       "  'e32e256b'),\n",
       " ('Who teaches the Consensys Academy’s Developer Program?', 'e32e256b'),\n",
       " ('Which blockchain development does the Consensys Academy focus on?',\n",
       "  'e32e256b'),\n",
       " ('What defines a blockchain company?', '7d5858ff'),\n",
       " ('Which report ranks blockchain-based decentralized applications?',\n",
       "  '7d5858ff'),\n",
       " ('Who released a report on top blockchain companies?', '7d5858ff'),\n",
       " ('What kind of companies are considered blockchain companies?', '7d5858ff'),\n",
       " ('How does State of the Dapps rank applications?', '7d5858ff'),\n",
       " ('questions', '6e5e130c'),\n",
       " ('What is the full form of zk-SNARK?', '4c6c08e5'),\n",
       " ('How do zk-SNARKs help in verifying transactions?', '4c6c08e5'),\n",
       " ('Can zk-SNARKs keep transaction data private?', '4c6c08e5'),\n",
       " ('Do users need to interact to verify transactions with zk-SNARKs?',\n",
       "  '4c6c08e5'),\n",
       " ('Where can I find a technical walkthrough of zk-SNARKs?', '4c6c08e5'),\n",
       " ('question1', '8fd8812d'),\n",
       " ('question2', '8fd8812d'),\n",
       " ('question3', '8fd8812d'),\n",
       " ('question4', '8fd8812d'),\n",
       " ('question5', '8fd8812d'),\n",
       " ('What is the role of nodes in the Ethereum network?', 'a4e48bdd'),\n",
       " ('What is the Ethereum Virtual Machine (EVM) and what does it do?',\n",
       "  'a4e48bdd'),\n",
       " ('How do smart contracts operate within the Ethereum ecosystem?', 'a4e48bdd'),\n",
       " ('Which programming languages can be used to develop on Ethereum?',\n",
       "  'a4e48bdd'),\n",
       " ('How does Ethereum handle transaction verification?', 'a4e48bdd'),\n",
       " ('What constitutes a block in the Ethereum blockchain?', '241bbd9a'),\n",
       " ('How does Ethereum currently verify transactions?', '241bbd9a'),\n",
       " (\"Can you define a 'block' in the context of Ethereum?\", '241bbd9a'),\n",
       " ('What is a block and how is it verified on Ethereum?', '241bbd9a'),\n",
       " ('What algorithm does Ethereum use to verify blocks of transactions?',\n",
       "  '241bbd9a'),\n",
       " ('What is a smart contract in the context of Ethereum?', 'e97d2b65'),\n",
       " ('How does Ethereum use smart contracts in banking and finance?', 'e97d2b65'),\n",
       " ('In which ways can smart contracts be utilized in supply chain management on Ethereum?',\n",
       "  'e97d2b65'),\n",
       " ('What potential applications do Ethereum-based smart contracts have?',\n",
       "  'e97d2b65'),\n",
       " ('Can smart contracts on Ethereum support different industries?', 'e97d2b65'),\n",
       " ('What is the function of an Ethereum client?', 'a497c8e2'),\n",
       " ('Can Ethereum clients interact with each other?', 'a497c8e2'),\n",
       " ('Which companies developed some of the popular Ethereum clients?',\n",
       "  'a497c8e2'),\n",
       " ('What features does Hyperledger Besu offer?', 'a497c8e2'),\n",
       " ('What additional support does PegaSys Plus provide over Hyperledger Besu?',\n",
       "  'a497c8e2'),\n",
       " ('What kind of project is Ethereum?', '320c4aa2'),\n",
       " ('Is Ethereum owned by a single entity?', '320c4aa2'),\n",
       " ('How can developers contribute to Ethereum?', '320c4aa2'),\n",
       " (\"What is MolochDAO's role in Ethereum?\", '320c4aa2'),\n",
       " ('What does Gitcoin do for Ethereum?', '320c4aa2'),\n",
       " ('What is Ethereum’s native token?', 'd184e510'),\n",
       " ('How are miners compensated for their work on the Ethereum blockchain?',\n",
       "  'd184e510'),\n",
       " ('What is gas within the context of Ethereum?', 'd184e510'),\n",
       " ('How is the value of gas expressed?', 'd184e510'),\n",
       " ('What is the symbol for ether?', 'd184e510'),\n",
       " ('What are cryptocurrency addresses used for?', 'c70131d0'),\n",
       " ('What is an Ethereum address?', 'c70131d0'),\n",
       " ('Why do miners need an etherbase?', 'c70131d0'),\n",
       " ('Where can I find a guide on storing Ethereum assets?', 'c70131d0'),\n",
       " ('What should I know about seed phrases and security for digital assets?',\n",
       "  'c70131d0'),\n",
       " ('questions', '12f4a670'),\n",
       " ('What factors influence Ethereum confirmation times?', '86649307'),\n",
       " ('Where can I check the average wait times for Ethereum transfers?',\n",
       "  '86649307'),\n",
       " ('Does the amount of gas I pay affect the transfer time of Ether?',\n",
       "  '86649307'),\n",
       " ('Are Ethereum confirmation times consistent?', '86649307'),\n",
       " ('How can I optimize the transfer speed of Ether?', '86649307'),\n",
       " ('What is the Ethereum gas limit?', 'd1cb650b'),\n",
       " ('Why are gas limits crucial in Ethereum transactions?', 'd1cb650b'),\n",
       " ('What happens if an Ethereum gas limit is too low?', 'd1cb650b'),\n",
       " ('How do gas limits protect users and miners in Ethereum?', 'd1cb650b'),\n",
       " ('Why do different transactions require varying gas limits in Ethereum?',\n",
       "  'd1cb650b'),\n",
       " ('What languages can you use to write Ethereum smart contracts?', 'f25d123f'),\n",
       " (\"Which programming languages are used for Ethereum's development?\",\n",
       "  'f25d123f'),\n",
       " ('On which virtual machine do Solidity, Serpent, and other languages operate?',\n",
       "  'f25d123f'),\n",
       " ('What high-level languages target the Ethereum Virtual Machine?',\n",
       "  'f25d123f'),\n",
       " ('Is Python used in developing the Ethereum protocol?', 'f25d123f'),\n",
       " ('What applications are common for Ethereum?', '3c0fedb9'),\n",
       " ('How do global enterprises benefit from Ethereum?', '3c0fedb9'),\n",
       " ('Why are developers attracted to Ethereum?', '3c0fedb9'),\n",
       " ('How is Ethereum used for payment settlement?', '3c0fedb9'),\n",
       " ('What makes Ethereum a preferred blockchain for business solutions?',\n",
       "  '3c0fedb9'),\n",
       " ('question1', '80161bff'),\n",
       " ('question2', '80161bff'),\n",
       " ('question3', '80161bff'),\n",
       " ('question4', '80161bff'),\n",
       " ('question5', '80161bff'),\n",
       " ('How do Bitcoin and Ethereum differ in their core principles?', '284aafbf'),\n",
       " ('What unique feature does Ethereum offer compared to Bitcoin?', '284aafbf'),\n",
       " ('In what programming languages are Bitcoin and Ethereum written?',\n",
       "  '284aafbf'),\n",
       " ('What differences exist between the block times and hashing algorithms of Bitcoin and Ethereum?',\n",
       "  '284aafbf'),\n",
       " (\"Why do Ethereum's developers want to transition to a Proof of Stake system?\",\n",
       "  '284aafbf'),\n",
       " ('Is Bitcoin or Ethereum a better investment?', '481acdd9'),\n",
       " ('What unique features do Bitcoin and Ethereum offer?', '481acdd9'),\n",
       " ('How does Ethereum differ from Bitcoin in terms of applications?',\n",
       "  '481acdd9'),\n",
       " (\"What sectors benefit from Ethereum's smart contracts?\", '481acdd9'),\n",
       " (\"Why is Ethereum's architecture considered suitable for a universal root chain?\",\n",
       "  '481acdd9'),\n",
       " ('What was the purpose of the Byzantium update in Ethereum?', 'faba0305'),\n",
       " ('When did the Byzantium update take place within Ethereum?', 'faba0305'),\n",
       " ('How many EIPs were included in the Byzantium upgrade?', 'faba0305'),\n",
       " ('What were the key improvements brought by the Byzantium update?',\n",
       "  'faba0305'),\n",
       " ('What significant event followed the Byzantium update in Ethereum?',\n",
       "  'faba0305'),\n",
       " ('What is the consensus algorithm currently used by the Ethereum blockchain?',\n",
       "  '6343b601'),\n",
       " ('Why is Ethereum planning to move to a Proof of Stake (PoS) system?',\n",
       "  '6343b601'),\n",
       " ('What issues will Proof of Stake (PoS) solve for Ethereum?', '6343b601'),\n",
       " ('Who is Vlad Zamfir in relation to Ethereum’s PoS system?', '6343b601'),\n",
       " ('How does PoS impact the risk and cost of a 51% attack?', '6343b601'),\n",
       " ('What is the final iteration in Ethereum’s evolution and its name?',\n",
       "  'c1a4f1af'),\n",
       " ('When is the first phase of Serenity expected to roll out?', 'c1a4f1af'),\n",
       " ('What type of blockchain will the Beacon Chain be?', 'c1a4f1af'),\n",
       " ('What will the Beacon Chain be stood up alongside?', 'c1a4f1af'),\n",
       " ('Where can one read more about the upcoming stages of Ethereum’s evolution?',\n",
       "  'c1a4f1af'),\n",
       " ('What algorithm do Ethereum miners use?', 'c03ac963'),\n",
       " ('How are miners rewarded on the Ethereum blockchain?', 'c03ac963'),\n",
       " (\"What plans exist to change Ethereum's consensus mechanism?\", 'c03ac963'),\n",
       " ('What is required in Proof of Stake for validators?', 'c03ac963'),\n",
       " ('Why is the financial incentive riskier for malicious actors in PoS?',\n",
       "  'c03ac963'),\n",
       " ('How quickly can an Ethereum block be mined?', '3abb7cc3'),\n",
       " ('What is the average time to mine a block of Ethereum?', '3abb7cc3'),\n",
       " ('How long does it typically take to mine a single Ethereum block?',\n",
       "  '3abb7cc3'),\n",
       " ('What is the standard duration for mining an Ethereum block?', '3abb7cc3'),\n",
       " ('What is the block time for Ethereum mining?', '3abb7cc3'),\n",
       " ('What does the term hashrate mean in relation to Ethereum mining?',\n",
       "  '312dba9c'),\n",
       " ('How much hashrate is an Ethereum miner capable of producing?', '312dba9c'),\n",
       " ('Where can I find updates on the current average hashrate for Ethereum?',\n",
       "  '312dba9c'),\n",
       " (\"As of July 2019, what was Ethereum's average network hashrate?\",\n",
       "  '312dba9c'),\n",
       " (\"What unit of measurement is used for Ethereum's hashrate?\", '312dba9c'),\n",
       " ('Is it difficult to mine Ethereum currently?', '145af05a'),\n",
       " ('Why do most miners use a mining pool for Ethereum?', '145af05a'),\n",
       " ('Can I make profits consistently from solo mining Ethereum?', '145af05a'),\n",
       " ('How long does it take to find a single block when solo mining Ethereum?',\n",
       "  '145af05a'),\n",
       " ('What is the advantage of using a mining pool for Ethereum mining?',\n",
       "  '145af05a'),\n",
       " ('Can my GPU handle Ethereum mining?', 'e90e49cc'),\n",
       " ('Is dedicated hardware needed to mine Ethereum?', 'e90e49cc'),\n",
       " ('What role does GPU power play in Ethereum mining?', 'e90e49cc'),\n",
       " ('Can I use a powerful computer for Ethereum mining?', 'e90e49cc'),\n",
       " (\"What do I need to know about my computer's capability to mine Ethereum?\",\n",
       "  'e90e49cc'),\n",
       " ('What does Ethereum difficulty mean?', '3d60bdb7'),\n",
       " ('How is the difficulty of finding a new block in Ethereum described?',\n",
       "  '3d60bdb7'),\n",
       " ('What happens when Ethereum difficulty is higher?', '3d60bdb7'),\n",
       " ('What is the average Ethereum network difficulty as of July 2019?',\n",
       "  '3d60bdb7'),\n",
       " (\"Where can I check the Ethereum network's average difficulty?\", '3d60bdb7'),\n",
       " ('What are mining pools and their significance in Ethereum mining?',\n",
       "  'e373bc19'),\n",
       " ('Why is solo Ethereum mining considered impractical?', 'e373bc19'),\n",
       " ('What role do cloud mining applications play in Ethereum mining?',\n",
       "  'e373bc19'),\n",
       " ('Why is dedicated hardware recommended for mining Ethereum?', 'e373bc19'),\n",
       " ('How do cloud mining applications differ from traditional Ethereum mining?',\n",
       "  'e373bc19'),\n",
       " ('Is it feasible to mine Ethereum on a personal computer?', '0c354bb8'),\n",
       " ('What kind of software is required to mine Ethereum on a laptop?',\n",
       "  '0c354bb8'),\n",
       " ('Why is it impractical to mine Ethereum using a laptop?', '0c354bb8'),\n",
       " ('Are there any products that enhance Ethereum mining efficiency?',\n",
       "  '0c354bb8'),\n",
       " ('Do dedicated hardware devices exist for Ethereum mining?', '0c354bb8'),\n",
       " ('Is it feasible to mine Ethereum using a Mac?', 'dc6d4628'),\n",
       " ('What is the effectiveness of mining Ethereum on Mac computers?',\n",
       "  'dc6d4628'),\n",
       " ('Can I use my Mac to mine Ethereum effectively?', 'dc6d4628'),\n",
       " ('Is it possible to mine Ethereum with a Mac or do I need special hardware?',\n",
       "  'dc6d4628'),\n",
       " ('Are dedicated hardware setups necessary for mining if I have a Mac?',\n",
       "  'dc6d4628'),\n",
       " ('What factors determine the daily Ethereum mining reward?', '61ffef3f'),\n",
       " ('How much can miners in top mining pools earn daily from Ethereum mining?',\n",
       "  '61ffef3f'),\n",
       " ('What percentage of newly found blocks is mined by the top five mining pools?',\n",
       "  '61ffef3f'),\n",
       " (\"Which mining pool found over 11,000 blocks in a week according to Alethio's report?\",\n",
       "  '61ffef3f'),\n",
       " ('Why is participation in a mining pool significant for Ethereum miners?',\n",
       "  '61ffef3f')]"
      ]
     },
     "execution_count": 34,
     "metadata": {},
     "output_type": "execute_result"
    }
   ],
   "source": [
    "final_results"
   ]
  },
  {
   "cell_type": "markdown",
   "id": "698958a8-fed6-4d75-a4b9-3d932c88108b",
   "metadata": {},
   "source": [
    "Export result into csv"
   ]
  },
  {
   "cell_type": "code",
   "execution_count": 35,
   "id": "ebf8d3e1-3456-48f8-a93d-ebaf6f5f4dfb",
   "metadata": {},
   "outputs": [],
   "source": [
    "import pandas as pd"
   ]
  },
  {
   "cell_type": "code",
   "execution_count": 36,
   "id": "c023dd0e-3408-48ca-96d7-155920abb9bd",
   "metadata": {},
   "outputs": [],
   "source": [
    "df = pd.DataFrame(final_results, columns=['question', 'document'])"
   ]
  },
  {
   "cell_type": "code",
   "execution_count": 37,
   "id": "92f573e8-7f5d-4da5-bb8e-47b1430b2807",
   "metadata": {},
   "outputs": [],
   "source": [
    "# df.to_csv('ground-truth-data-crypto.csv', index=False)"
   ]
  },
  {
   "cell_type": "code",
   "execution_count": 38,
   "id": "ba3f67b0-c179-4afa-8a87-3a71c1b7d6ed",
   "metadata": {},
   "outputs": [],
   "source": [
    "df['total_count'] = df['question'].apply(lambda x: len(x.split()))"
   ]
  },
  {
   "cell_type": "code",
   "execution_count": 40,
   "id": "d7048522-4446-4a94-a2c0-195e1a7122e8",
   "metadata": {},
   "outputs": [],
   "source": [
    "new_df = df[df['total_count'] > 2]"
   ]
  },
  {
   "cell_type": "code",
   "execution_count": 41,
   "id": "aceda66e-940d-4af3-b415-3d49008f5025",
   "metadata": {},
   "outputs": [],
   "source": [
    "new_df.to_csv('ground-truth-data-crypto.csv', index=False)"
   ]
  },
  {
   "cell_type": "code",
   "execution_count": null,
   "id": "c74c9115-46ee-4df9-aa06-b545698eaeda",
   "metadata": {},
   "outputs": [],
   "source": []
  }
 ],
 "metadata": {
  "kernelspec": {
   "display_name": "Python 3 (ipykernel)",
   "language": "python",
   "name": "python3"
  },
  "language_info": {
   "codemirror_mode": {
    "name": "ipython",
    "version": 3
   },
   "file_extension": ".py",
   "mimetype": "text/x-python",
   "name": "python",
   "nbconvert_exporter": "python",
   "pygments_lexer": "ipython3",
   "version": "3.11.9"
  }
 },
 "nbformat": 4,
 "nbformat_minor": 5
}
