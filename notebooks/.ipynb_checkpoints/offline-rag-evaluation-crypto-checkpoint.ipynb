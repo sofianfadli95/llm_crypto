{
 "cells": [
  {
   "cell_type": "markdown",
   "id": "1b18308b-5949-4ab8-9014-815333c9066e",
   "metadata": {},
   "source": [
    "This is to evaluate RAG Performance System overall"
   ]
  },
  {
   "cell_type": "markdown",
   "id": "c11e97a6-82b7-4b89-a5d9-7af99e9ab0d3",
   "metadata": {},
   "source": [
    "# Load documents with IDs"
   ]
  },
  {
   "cell_type": "code",
   "execution_count": 1,
   "id": "1c35203e-75a2-40f2-ab5d-4cc426caa7f3",
   "metadata": {},
   "outputs": [],
   "source": [
    "import json\n",
    "\n",
    "with open('documents-crypto-with-ids.json', 'rt') as f_in:\n",
    "    documents = json.load(f_in)"
   ]
  },
  {
   "cell_type": "code",
   "execution_count": 2,
   "id": "8563cc56-18b2-4e18-bbef-26a6e2935e35",
   "metadata": {},
   "outputs": [
    {
     "data": {
      "text/plain": [
       "{'question': 'What is block time?',\n",
       " 'answer': 'Depending upon how a particular blockchain protocol was developed, the time that it takes for a block to be added to the canonical chain can vary widely. A blockchain is a linear construct in that every new block occurs at a later time than the one that preceded it and cannot be undone. A blockchain’s linearity serves as an ideal form of validation. According to ethstats.io as of July 2019, for the Ethereum blockchain, new blocks are added approximately every 14 seconds.',\n",
       " 'id': '04090abf'}"
      ]
     },
     "execution_count": 2,
     "metadata": {},
     "output_type": "execute_result"
    }
   ],
   "source": [
    "documents[10]"
   ]
  },
  {
   "cell_type": "markdown",
   "id": "a078cad7-f206-4958-bf90-0b61fc878360",
   "metadata": {},
   "source": [
    "# Load ground truth"
   ]
  },
  {
   "cell_type": "code",
   "execution_count": 3,
   "id": "ab4def0a-f951-4dac-9e50-a9aa07a66c14",
   "metadata": {},
   "outputs": [],
   "source": [
    "import pandas as pd"
   ]
  },
  {
   "cell_type": "code",
   "execution_count": 4,
   "id": "08312b95-95ad-4e6b-a4a4-69cbf438d8e4",
   "metadata": {},
   "outputs": [],
   "source": [
    "df_ground_truth = pd.read_csv('data\\ground-truth-data-crypto.csv')\n",
    "df_ground_truth.drop(columns=['total_count'], inplace=True)\n",
    "ground_truth = df_ground_truth.to_dict(orient='records')"
   ]
  },
  {
   "cell_type": "code",
   "execution_count": 5,
   "id": "03b2532c-ba21-4be6-9539-9f78fec8de04",
   "metadata": {},
   "outputs": [
    {
     "data": {
      "text/plain": [
       "{'question': 'What does a blockchain system encompass?',\n",
       " 'document': 'e3753a49'}"
      ]
     },
     "execution_count": 5,
     "metadata": {},
     "output_type": "execute_result"
    }
   ],
   "source": [
    "ground_truth[10]"
   ]
  },
  {
   "cell_type": "code",
   "execution_count": 6,
   "id": "c81cdfd5-20a5-47ba-9cf8-cf44c926e2fa",
   "metadata": {},
   "outputs": [],
   "source": [
    "doc_idx = {d['id']: d for d in documents}"
   ]
  },
  {
   "cell_type": "markdown",
   "id": "85a61d4a-efca-46d1-b146-8369b6932d5e",
   "metadata": {},
   "source": [
    "# Index data"
   ]
  },
  {
   "cell_type": "code",
   "execution_count": 7,
   "id": "538fa9f1-75da-43fb-b13f-b3ed95e2aee8",
   "metadata": {},
   "outputs": [
    {
     "name": "stderr",
     "output_type": "stream",
     "text": [
      "C:\\Users\\sofia\\anaconda3\\envs\\crypto_llm\\Lib\\site-packages\\transformers\\tokenization_utils_base.py:1601: FutureWarning: `clean_up_tokenization_spaces` was not set. It will be set to `True` by default. This behavior will be depracted in transformers v4.45, and will be then set to `False` by default. For more details check this issue: https://github.com/huggingface/transformers/issues/31884\n",
      "  warnings.warn(\n"
     ]
    }
   ],
   "source": [
    "from sentence_transformers import SentenceTransformer\n",
    "\n",
    "model_name = 'multi-qa-MiniLM-L6-cos-v1'\n",
    "model = SentenceTransformer(model_name)"
   ]
  },
  {
   "cell_type": "code",
   "execution_count": 8,
   "id": "5fe3a516-dd6f-49fd-b939-57cb193e4574",
   "metadata": {},
   "outputs": [],
   "source": [
    "from elasticsearch import Elasticsearch\n",
    "\n",
    "es_client = Elasticsearch('http://localhost:9200') \n",
    "\n",
    "index_settings = {\n",
    "    \"settings\": {\n",
    "        \"number_of_shards\": 1,\n",
    "        \"number_of_replicas\": 0\n",
    "    },\n",
    "    \"mappings\": {\n",
    "        \"properties\": {\n",
    "            \"answer\": {\"type\": \"text\"},\n",
    "            \"question\": {\"type\": \"text\"},\n",
    "            \"id\": {\"type\": \"keyword\"},\n",
    "            \"question_answer_vector\": {\n",
    "                \"type\": \"dense_vector\",\n",
    "                \"dims\": 384,\n",
    "                \"index\": True,\n",
    "                \"similarity\": \"cosine\"\n",
    "            },\n",
    "        }\n",
    "    }\n",
    "}\n",
    "\n",
    "index_name = \"crypto-questions\"\n",
    "\n",
    "# es_client.indices.delete(index=index_name, ignore_unavailable=True)\n",
    "# es_client.indices.create(index=index_name, body=index_settings)"
   ]
  },
  {
   "cell_type": "code",
   "execution_count": 9,
   "id": "fd485159-1c49-47e0-8a65-05139ee36c23",
   "metadata": {},
   "outputs": [],
   "source": [
    "from tqdm.auto import tqdm\n",
    "\n",
    "# for doc in tqdm(documents):\n",
    "#     question = doc['question']\n",
    "#     text = doc['answer']\n",
    "#     doc['question_answer_vector'] = model.encode(question + ' ' + text)\n",
    "\n",
    "#     es_client.index(index=index_name, document=doc)"
   ]
  },
  {
   "cell_type": "markdown",
   "id": "f1ea8d1e-aae8-4f36-a278-0ef7c9db2ab9",
   "metadata": {},
   "source": [
    "# Retrieval"
   ]
  },
  {
   "cell_type": "code",
   "execution_count": 10,
   "id": "a95392d9-0381-43d0-b405-13c54316384c",
   "metadata": {},
   "outputs": [],
   "source": [
    "def elastic_search_knn(field, vector):\n",
    "    knn = {\n",
    "        \"field\": field,\n",
    "        \"query_vector\": vector,\n",
    "        \"k\": 5,\n",
    "        \"num_candidates\": 10000,\n",
    "    }\n",
    "\n",
    "    search_query = {\n",
    "        \"knn\": knn,\n",
    "        \"_source\": [\"answer\", \"question\", \"id\"]\n",
    "    }\n",
    "\n",
    "    es_results = es_client.search(\n",
    "        index=index_name,\n",
    "        body=search_query\n",
    "    )\n",
    "    \n",
    "    result_docs = []\n",
    "    \n",
    "    for hit in es_results['hits']['hits']:\n",
    "        result_docs.append(hit['_source'])\n",
    "\n",
    "    return result_docs\n",
    "\n",
    "def question_answer_vector_knn(q):\n",
    "    question = q['question']\n",
    "    v_q = model.encode(question)\n",
    "\n",
    "    return elastic_search_knn('question_answer_vector', v_q)"
   ]
  },
  {
   "cell_type": "code",
   "execution_count": 11,
   "id": "15d2ccec-7e29-4043-8043-01c92097515c",
   "metadata": {},
   "outputs": [
    {
     "data": {
      "text/plain": [
       "[{'question': 'What is a blockchain system?',\n",
       "  'answer': 'A blockchain system refers to all the aspects and features that go into a particular blockchain, everything from the consensus algorithm to the state machine to cryptographic functions. As Andreas Antonopoulus and Gavin Wood note in Mastering Ethereum, there are “a huge variety of blockchains with different properties”––qualifiers “help us understand the characteristics of the blockchain in question, such as open, public, decentralized, neutral, and censorship-resistant.”',\n",
       "  'id': 'e3753a49'},\n",
       " {'question': 'What are zk-SNARKs?',\n",
       "  'answer': 'zk-SNARK is an acryonym for zero-knowledge succinct non-interactive argument of knowledge, a cryptographic proof system that enables a user to verify a transaction without revealing the actual data of the transaction, and without interacting with the user who published the transaction. In the context of a blockchain, zk-SNARKs allow users to maintain private transactions, while still validating the transactions according to the network’s consensus algorithm. For a technical walkthrough of zk-SNARKs, check out our introduction to zk-SNARKs.',\n",
       "  'id': '4c6c08e5'},\n",
       " {'question': 'What is ether (ETH)?',\n",
       "  'answer': 'Ether is Ethereum’s native token and the fuel that powers the Ethereum blockchain. On Ethereum, each operation (many of which can be combined to create a single unique smart contract or transaction) requires a certain amount of computing energy to perform. Because miners must use energy to complete these operations, a unit of measurement was created to monitor and compensate miners for the work they spend running transactions and smart contracts. This unit of measurement is called gas. Gas is a unit of measurement that is unique to the Ethereum blockchain and that measures the computational work required to run transactions or smart contracts within the EVM. The more energy required to run an operation (i.e. a more complex piece of code), the more gas is required. The value of each unit of gas is expressed in ether. Ether therefore provides an incentive for miners to validate blocks of transactions and for developers to write concise, quality code. ETH is the symbol for ether. Note that “eth” is also a command line used for importing the Ethereum wallet.',\n",
       "  'id': 'd184e510'},\n",
       " {'question': 'What is Ethereum?',\n",
       "  'answer': 'In 2015, the Ethereum blockchain launched as a much more versatile version of the Bitcoin payment system’s underlying blockchain technology. Ethereum is a decentralized, open source, and distributed computing platform that enables the creation of smart contracts and decentralized applications, also known as dapps. Smart contracts are computer protocols that facilitate, verify, or enforce the negotiation and performance of some sort of agreement. Ethereum brought the first practical solution for smart contracts to the blockchain space.',\n",
       "  'id': '8fd8812d'},\n",
       " {'question': 'How does Ethereum work?',\n",
       "  'answer': 'Like the Bitcoin blockchain, Ethereum utilizes nodes that are operated voluntarily in order to verify transactions in the network. Nodes can contain the entirety or a segment of Ethereum transaction history, the most recent information about the state of smart contracts, the balances of accounts, and more. At the foundation of Ethereum is the Ethereum Virtual Machine (EVM), which is the executable and trustless environment for smart contracts: computer protocols that facilitate, verify, and enforce the negotiation and performance of some sort of digital agreement. The EVM executes a contract with whatever rules the developer initially programmed, such as sending money from Alice to Bob. The EVM executes these programs through a bytecode language. Ethereum developers are able to use Ethereum programming languages such as Solidity and others to write smart contracts and build decentralized applications.',\n",
       "  'id': 'a4e48bdd'}]"
      ]
     },
     "execution_count": 11,
     "metadata": {},
     "output_type": "execute_result"
    }
   ],
   "source": [
    "question_answer_vector_knn(dict(\n",
    "    question='What is a system?'\n",
    "))"
   ]
  },
  {
   "cell_type": "markdown",
   "id": "088b4daa-1a4e-44f4-9d0d-43da42112b34",
   "metadata": {},
   "source": [
    "# The RAG flow"
   ]
  },
  {
   "cell_type": "code",
   "execution_count": 12,
   "id": "47a738dc-ae8f-456a-b036-b17ad93e3f80",
   "metadata": {},
   "outputs": [],
   "source": [
    "def build_prompt(query, search_results):\n",
    "    prompt_template = \"\"\"\n",
    "You're a personal assisstant which teach people which still beginner about investing in cryptocurrency. \n",
    "Answer the QUESTION based on the CONTEXT from the FAQ database.\n",
    "Use only the facts from the CONTEXT when answering the QUESTION.\n",
    "\n",
    "QUESTION: {question}\n",
    "\n",
    "CONTEXT: \n",
    "{context}\n",
    "\"\"\".strip()\n",
    "\n",
    "    context = \"\"\n",
    "    \n",
    "    for doc in search_results:\n",
    "        context = context + f\"\\nquestion: {doc['question']}\\nanswer: {doc['answer']}\\n\\n\"\n",
    "    \n",
    "    prompt = prompt_template.format(question=query, context=context).strip()\n",
    "    return prompt"
   ]
  },
  {
   "cell_type": "code",
   "execution_count": 13,
   "id": "583c3918-0582-4406-9bb3-1ae40a0c61c9",
   "metadata": {},
   "outputs": [],
   "source": [
    "from openai import OpenAI\n",
    "\n",
    "client = OpenAI()\n",
    "\n",
    "def llm(prompt, model='gpt-4o'):\n",
    "    response = client.chat.completions.create(\n",
    "        model=model,\n",
    "        messages=[{\"role\": \"user\", \"content\": prompt}]\n",
    "    )\n",
    "    \n",
    "    return response.choices[0].message.content"
   ]
  },
  {
   "cell_type": "code",
   "execution_count": 14,
   "id": "dd062a31-7118-4727-ad17-28099c65a6b2",
   "metadata": {},
   "outputs": [],
   "source": [
    "# previously: rag(query: str) -> str\n",
    "def rag(query: dict, model='gpt-4o') -> str:\n",
    "    search_results = question_answer_vector_knn(query)\n",
    "    prompt = build_prompt(query['question'], search_results)\n",
    "    answer = llm(prompt, model=model)\n",
    "    return answer"
   ]
  },
  {
   "cell_type": "markdown",
   "id": "a01aac1b-3120-49ef-addf-61bba65f62d6",
   "metadata": {},
   "source": [
    "Let's test the answer with the answer which generate by LLM"
   ]
  },
  {
   "cell_type": "code",
   "execution_count": 15,
   "id": "53f64c2a-e7a3-4107-ab9c-9ef7e04395cd",
   "metadata": {},
   "outputs": [
    {
     "data": {
      "text/plain": [
       "{'question': 'What does a blockchain system encompass?',\n",
       " 'document': 'e3753a49'}"
      ]
     },
     "execution_count": 15,
     "metadata": {},
     "output_type": "execute_result"
    }
   ],
   "source": [
    "ground_truth[10]"
   ]
  },
  {
   "cell_type": "code",
   "execution_count": 16,
   "id": "184bd2aa-fcdd-43c8-b4d5-462fb4f8a267",
   "metadata": {},
   "outputs": [],
   "source": [
    "# answer_llm = rag(ground_truth[10])"
   ]
  },
  {
   "cell_type": "code",
   "execution_count": 17,
   "id": "e6a58854-7a6f-4a55-beee-c7a6686b4e2a",
   "metadata": {},
   "outputs": [],
   "source": [
    "answer_orig = doc_idx['e3753a49']['answer']"
   ]
  },
  {
   "cell_type": "markdown",
   "id": "fb3a2f88-a301-4c97-8ee9-6f65848367c7",
   "metadata": {},
   "source": [
    "# Cosine similarity metric"
   ]
  },
  {
   "cell_type": "code",
   "execution_count": 18,
   "id": "42587b82-da33-48a2-acf6-66bcb9178a72",
   "metadata": {},
   "outputs": [],
   "source": [
    "# v_llm = model.encode(answer_llm)\n",
    "# v_orig = model.encode(answer_orig)\n",
    "\n",
    "# v_llm.dot(v_orig)"
   ]
  },
  {
   "cell_type": "code",
   "execution_count": 19,
   "id": "009173e4-199a-447d-afdc-0c6f0fc18e7a",
   "metadata": {},
   "outputs": [],
   "source": [
    "answers = {}"
   ]
  },
  {
   "cell_type": "code",
   "execution_count": 20,
   "id": "a917d000-daab-4177-bf0f-d8fd11b45467",
   "metadata": {},
   "outputs": [],
   "source": [
    "# for i, rec in enumerate(tqdm(ground_truth)):\n",
    "#     if i in answers:\n",
    "#         continue\n",
    "\n",
    "#     answer_llm = rag(rec)\n",
    "#     doc_id = rec['document']\n",
    "#     original_doc = doc_idx[doc_id]\n",
    "#     answer_orig = original_doc['answer']\n",
    "\n",
    "#     answers[i] = {\n",
    "#         'answer_llm': answer_llm,\n",
    "#         'answer_orig': answer_orig,\n",
    "#         'document': doc_id,\n",
    "#         'question': rec['question']\n",
    "#     }"
   ]
  },
  {
   "cell_type": "code",
   "execution_count": 21,
   "id": "c187b7b2-90b3-4f77-a972-5f6d95827fec",
   "metadata": {},
   "outputs": [],
   "source": [
    "# results_gpt4o = [None] * len(ground_truth)\n",
    "\n",
    "# for i, val in answers.items():\n",
    "#     results_gpt4o[i] = val.copy()\n",
    "#     results_gpt4o[i].update(ground_truth[i])"
   ]
  },
  {
   "cell_type": "code",
   "execution_count": 25,
   "id": "79a9067c-53fb-4758-8bb7-275c2ba218ad",
   "metadata": {},
   "outputs": [],
   "source": [
    "import pandas as pd\n",
    "# df_gpt4o = pd.DataFrame(results_gpt4o)\n",
    "# df_gpt4o.to_csv('results-gpt4o-crypto.csv', index=False)\n",
    "df_gpt4o = pd.read_csv('data/results-gpt4o-crypto.csv')"
   ]
  },
  {
   "cell_type": "code",
   "execution_count": 26,
   "id": "73ac787b-f1a8-4296-9ad7-7b3062f35f50",
   "metadata": {},
   "outputs": [
    {
     "data": {
      "text/html": [
       "<div>\n",
       "<style scoped>\n",
       "    .dataframe tbody tr th:only-of-type {\n",
       "        vertical-align: middle;\n",
       "    }\n",
       "\n",
       "    .dataframe tbody tr th {\n",
       "        vertical-align: top;\n",
       "    }\n",
       "\n",
       "    .dataframe thead th {\n",
       "        text-align: right;\n",
       "    }\n",
       "</style>\n",
       "<table border=\"1\" class=\"dataframe\">\n",
       "  <thead>\n",
       "    <tr style=\"text-align: right;\">\n",
       "      <th></th>\n",
       "      <th>answer_llm</th>\n",
       "      <th>answer_orig</th>\n",
       "      <th>document</th>\n",
       "      <th>question</th>\n",
       "    </tr>\n",
       "  </thead>\n",
       "  <tbody>\n",
       "    <tr>\n",
       "      <th>0</th>\n",
       "      <td>A blockchain is a distributed, cryptographical...</td>\n",
       "      <td>A blockchain is a distributed, cryptographical...</td>\n",
       "      <td>ccb39dc7</td>\n",
       "      <td>What is a blockchain?</td>\n",
       "    </tr>\n",
       "    <tr>\n",
       "      <th>1</th>\n",
       "      <td>A blockchain is fundamentally different from t...</td>\n",
       "      <td>A blockchain is a distributed, cryptographical...</td>\n",
       "      <td>ccb39dc7</td>\n",
       "      <td>How is a blockchain different from traditional...</td>\n",
       "    </tr>\n",
       "    <tr>\n",
       "      <th>2</th>\n",
       "      <td>In the context of a blockchain, a smart contra...</td>\n",
       "      <td>A blockchain is a distributed, cryptographical...</td>\n",
       "      <td>ccb39dc7</td>\n",
       "      <td>Can you explain what smart contracts are in th...</td>\n",
       "    </tr>\n",
       "    <tr>\n",
       "      <th>3</th>\n",
       "      <td>Blockchains can execute a variety of functions...</td>\n",
       "      <td>A blockchain is a distributed, cryptographical...</td>\n",
       "      <td>ccb39dc7</td>\n",
       "      <td>What are some of the additional functions that...</td>\n",
       "    </tr>\n",
       "    <tr>\n",
       "      <th>4</th>\n",
       "      <td>The Bitcoin blockchain significantly contribut...</td>\n",
       "      <td>A blockchain is a distributed, cryptographical...</td>\n",
       "      <td>ccb39dc7</td>\n",
       "      <td>How did the Bitcoin blockchain contribute to b...</td>\n",
       "    </tr>\n",
       "  </tbody>\n",
       "</table>\n",
       "</div>"
      ],
      "text/plain": [
       "                                          answer_llm  \\\n",
       "0  A blockchain is a distributed, cryptographical...   \n",
       "1  A blockchain is fundamentally different from t...   \n",
       "2  In the context of a blockchain, a smart contra...   \n",
       "3  Blockchains can execute a variety of functions...   \n",
       "4  The Bitcoin blockchain significantly contribut...   \n",
       "\n",
       "                                         answer_orig  document  \\\n",
       "0  A blockchain is a distributed, cryptographical...  ccb39dc7   \n",
       "1  A blockchain is a distributed, cryptographical...  ccb39dc7   \n",
       "2  A blockchain is a distributed, cryptographical...  ccb39dc7   \n",
       "3  A blockchain is a distributed, cryptographical...  ccb39dc7   \n",
       "4  A blockchain is a distributed, cryptographical...  ccb39dc7   \n",
       "\n",
       "                                            question  \n",
       "0                              What is a blockchain?  \n",
       "1  How is a blockchain different from traditional...  \n",
       "2  Can you explain what smart contracts are in th...  \n",
       "3  What are some of the additional functions that...  \n",
       "4  How did the Bitcoin blockchain contribute to b...  "
      ]
     },
     "execution_count": 26,
     "metadata": {},
     "output_type": "execute_result"
    }
   ],
   "source": [
    "df_gpt4o.head()"
   ]
  },
  {
   "cell_type": "markdown",
   "id": "f60a9d39-2479-4a77-8b71-96197d2df54d",
   "metadata": {},
   "source": [
    "# Evaluating GPT 3.5"
   ]
  },
  {
   "cell_type": "code",
   "execution_count": 27,
   "id": "c81e4827-a2a6-4cca-8d83-c0a7fdfc5a90",
   "metadata": {},
   "outputs": [],
   "source": [
    "# rag(ground_truth[10], model='gpt-3.5-turbo')"
   ]
  },
  {
   "cell_type": "code",
   "execution_count": 28,
   "id": "97a4405f-eae4-4f3c-b0b4-7ae010f72604",
   "metadata": {},
   "outputs": [],
   "source": [
    "from tqdm.auto import tqdm\n",
    "\n",
    "from concurrent.futures import ThreadPoolExecutor\n",
    "\n",
    "pool = ThreadPoolExecutor(max_workers=6)\n",
    "\n",
    "def map_progress(pool, seq, f):\n",
    "    results = []\n",
    "\n",
    "    with tqdm(total=len(seq)) as progress:\n",
    "        futures = []\n",
    "\n",
    "        for el in seq:\n",
    "            future = pool.submit(f, el)\n",
    "            future.add_done_callback(lambda p: progress.update())\n",
    "            futures.append(future)\n",
    "\n",
    "        for future in futures:\n",
    "            result = future.result()\n",
    "            results.append(result)\n",
    "\n",
    "    return results"
   ]
  },
  {
   "cell_type": "code",
   "execution_count": 29,
   "id": "30606acf-0a2d-4f23-9149-6e591e406525",
   "metadata": {},
   "outputs": [],
   "source": [
    "def process_record(rec):\n",
    "    model = 'gpt-3.5-turbo'\n",
    "    answer_llm = rag(rec, model=model)\n",
    "    \n",
    "    doc_id = rec['document']\n",
    "    original_doc = doc_idx[doc_id]\n",
    "    answer_orig = original_doc['answer']\n",
    "\n",
    "    return {\n",
    "        'answer_llm': answer_llm,\n",
    "        'answer_orig': answer_orig,\n",
    "        'document': doc_id,\n",
    "        'question': rec['question']\n",
    "    }"
   ]
  },
  {
   "cell_type": "code",
   "execution_count": 30,
   "id": "c8df977f-1e20-4766-a875-d5878f894e1b",
   "metadata": {},
   "outputs": [],
   "source": [
    "# process_record(ground_truth[10])"
   ]
  },
  {
   "cell_type": "code",
   "execution_count": 31,
   "id": "e490c954-7e35-42fb-bf39-5e7f6600cb60",
   "metadata": {},
   "outputs": [],
   "source": [
    "# results_gpt35 = map_progress(pool, ground_truth, process_record)"
   ]
  },
  {
   "cell_type": "code",
   "execution_count": 34,
   "id": "bde6a122-5e7e-4790-9ccd-68c1b13c6fbc",
   "metadata": {},
   "outputs": [],
   "source": [
    "# df_gpt35 = pd.DataFrame(results_gpt35)\n",
    "# df_gpt35.to_csv('results-gpt35.csv', index=False)\n",
    "df_gpt35 = pd.read_csv('data/results-gpt35-crypto.csv')"
   ]
  },
  {
   "cell_type": "markdown",
   "id": "b1b47e84-f8d2-4591-9ff6-c4c13e86a445",
   "metadata": {},
   "source": [
    "## Cosine similarity\n",
    "\n",
    "A->Q->A' cosine similarity\n",
    "\n",
    "A -> Q -> A'\n",
    "\n",
    "cosine(A, A')\n",
    "\n",
    "### gpt-4o"
   ]
  },
  {
   "cell_type": "code",
   "execution_count": 35,
   "id": "bffd7fc9-8691-4bcf-883f-093462c9479a",
   "metadata": {},
   "outputs": [],
   "source": [
    "results_gpt4o = df_gpt4o.to_dict(orient='records')"
   ]
  },
  {
   "cell_type": "code",
   "execution_count": 36,
   "id": "49834398-f72e-469f-9473-270637428daa",
   "metadata": {},
   "outputs": [],
   "source": [
    "record = results_gpt4o[0]"
   ]
  },
  {
   "cell_type": "code",
   "execution_count": 37,
   "id": "f8b65f68-0e95-4cc0-8eb2-85b781154c3d",
   "metadata": {},
   "outputs": [],
   "source": [
    "def compute_similarity(record):\n",
    "    answer_orig = record['answer_orig']\n",
    "    answer_llm = record['answer_llm']\n",
    "    \n",
    "    v_llm = model.encode(answer_llm)\n",
    "    v_orig = model.encode(answer_orig)\n",
    "    \n",
    "    return v_llm.dot(v_orig)"
   ]
  },
  {
   "cell_type": "code",
   "execution_count": 38,
   "id": "976c3cc0-3c25-425b-bafa-e05a530ed4a2",
   "metadata": {},
   "outputs": [
    {
     "data": {
      "application/vnd.jupyter.widget-view+json": {
       "model_id": "06f6d9cb9c804413afeaa3fe83b49315",
       "version_major": 2,
       "version_minor": 0
      },
      "text/plain": [
       "  0%|          | 0/205 [00:00<?, ?it/s]"
      ]
     },
     "metadata": {},
     "output_type": "display_data"
    }
   ],
   "source": [
    "similarity = []\n",
    "\n",
    "for record in tqdm(results_gpt4o):\n",
    "    sim = compute_similarity(record)\n",
    "    similarity.append(sim)"
   ]
  },
  {
   "cell_type": "code",
   "execution_count": 39,
   "id": "d5112265-ef97-41b1-9715-4f96b908be19",
   "metadata": {},
   "outputs": [
    {
     "data": {
      "text/plain": [
       "count    205.000000\n",
       "mean       0.739126\n",
       "std        0.144457\n",
       "min        0.247286\n",
       "25%        0.654272\n",
       "50%        0.743877\n",
       "75%        0.849718\n",
       "max        0.994514\n",
       "Name: cosine, dtype: float64"
      ]
     },
     "execution_count": 39,
     "metadata": {},
     "output_type": "execute_result"
    }
   ],
   "source": [
    "df_gpt4o['cosine'] = similarity\n",
    "df_gpt4o['cosine'].describe()"
   ]
  },
  {
   "cell_type": "code",
   "execution_count": 40,
   "id": "7f74361a-1937-4611-a1ed-1417c6572a93",
   "metadata": {},
   "outputs": [],
   "source": [
    "import matplotlib.pyplot as plt"
   ]
  },
  {
   "cell_type": "markdown",
   "id": "89a1d728-23b9-4e72-9ce0-d36413c75884",
   "metadata": {},
   "source": [
    "### gpt-4o-mini"
   ]
  },
  {
   "cell_type": "code",
   "execution_count": 45,
   "id": "de666e79-7982-4173-a6dd-89888f081507",
   "metadata": {},
   "outputs": [],
   "source": [
    "def process_record_4o_mini(rec):\n",
    "    model = 'gpt-4o-mini'\n",
    "    answer_llm = rag(rec, model=model)\n",
    "    \n",
    "    doc_id = rec['document']\n",
    "    original_doc = doc_idx[doc_id]\n",
    "    answer_orig = original_doc['answer']\n",
    "\n",
    "    return {\n",
    "        'answer_llm': answer_llm,\n",
    "        'answer_orig': answer_orig,\n",
    "        'document': doc_id,\n",
    "        'question': rec['question'],\n",
    "    }"
   ]
  },
  {
   "cell_type": "code",
   "execution_count": 46,
   "id": "1cc09114-0880-407d-a494-282dd73ff0e8",
   "metadata": {},
   "outputs": [
    {
     "data": {
      "text/plain": [
       "{'answer_llm': 'A blockchain system encompasses all the aspects and features involved in a specific blockchain, including elements such as the consensus algorithm, state machine, and cryptographic functions. It takes into account various properties that help define the characteristics of the blockchain, such as whether it is open, public, decentralized, neutral, and censorship-resistant.',\n",
       " 'answer_orig': 'A blockchain system refers to all the aspects and features that go into a particular blockchain, everything from the consensus algorithm to the state machine to cryptographic functions. As Andreas Antonopoulus and Gavin Wood note in Mastering Ethereum, there are “a huge variety of blockchains with different properties”––qualifiers “help us understand the characteristics of the blockchain in question, such as open, public, decentralized, neutral, and censorship-resistant.”',\n",
       " 'document': 'e3753a49',\n",
       " 'question': 'What does a blockchain system encompass?'}"
      ]
     },
     "execution_count": 46,
     "metadata": {},
     "output_type": "execute_result"
    }
   ],
   "source": [
    "process_record_4o_mini(ground_truth[10])"
   ]
  },
  {
   "cell_type": "code",
   "execution_count": 47,
   "id": "83d32d0b-81f3-4424-83cc-5914431d32af",
   "metadata": {},
   "outputs": [],
   "source": [
    "results_gpt4omini = []"
   ]
  },
  {
   "cell_type": "code",
   "execution_count": 48,
   "id": "1a47024b-3794-4d0b-8f9c-d98880c7c543",
   "metadata": {},
   "outputs": [
    {
     "data": {
      "application/vnd.jupyter.widget-view+json": {
       "model_id": "1fa7edd77ea141d996656eb3b0857ae4",
       "version_major": 2,
       "version_minor": 0
      },
      "text/plain": [
       "  0%|          | 0/205 [00:00<?, ?it/s]"
      ]
     },
     "metadata": {},
     "output_type": "display_data"
    }
   ],
   "source": [
    "for record in tqdm(ground_truth):\n",
    "    result = process_record_4o_mini(record)\n",
    "    results_gpt4omini.append(result)"
   ]
  },
  {
   "cell_type": "code",
   "execution_count": 50,
   "id": "952103e0-f505-4696-ae99-ae09f658042a",
   "metadata": {},
   "outputs": [],
   "source": [
    "df_gpt4o_mini = pd.DataFrame(results_gpt4omini)\n",
    "df_gpt4o_mini.to_csv('data/results-gpt4o-mini-crypto.csv', index=False)"
   ]
  },
  {
   "cell_type": "code",
   "execution_count": 51,
   "id": "e7664f70-f2d0-4c3d-bf8b-fcb32092a76c",
   "metadata": {},
   "outputs": [
    {
     "data": {
      "application/vnd.jupyter.widget-view+json": {
       "model_id": "c32d53652445463f89dc3419422442a8",
       "version_major": 2,
       "version_minor": 0
      },
      "text/plain": [
       "  0%|          | 0/205 [00:00<?, ?it/s]"
      ]
     },
     "metadata": {},
     "output_type": "display_data"
    }
   ],
   "source": [
    "similarity_4o_mini = []\n",
    "\n",
    "for record in tqdm(results_gpt4omini):\n",
    "    sim = compute_similarity(record)\n",
    "    similarity_4o_mini.append(sim)"
   ]
  },
  {
   "cell_type": "code",
   "execution_count": 52,
   "id": "0e6abacd-2508-42ec-9b4c-2ecc3d7fc4f8",
   "metadata": {},
   "outputs": [
    {
     "data": {
      "text/plain": [
       "count    205.000000\n",
       "mean       0.735808\n",
       "std        0.144933\n",
       "min        0.087006\n",
       "25%        0.649163\n",
       "50%        0.751420\n",
       "75%        0.842687\n",
       "max        0.991450\n",
       "Name: cosine, dtype: float64"
      ]
     },
     "execution_count": 52,
     "metadata": {},
     "output_type": "execute_result"
    }
   ],
   "source": [
    "df_gpt4o_mini['cosine'] = similarity_4o_mini\n",
    "df_gpt4o_mini['cosine'].describe()"
   ]
  },
  {
   "cell_type": "code",
   "execution_count": 54,
   "id": "f5140b02-aacc-49d7-8f18-7c45831ca4c9",
   "metadata": {},
   "outputs": [
    {
     "name": "stderr",
     "output_type": "stream",
     "text": [
      "C:\\Users\\sofia\\AppData\\Local\\Temp\\ipykernel_34524\\2182486418.py:4: UserWarning: \n",
      "\n",
      "`distplot` is a deprecated function and will be removed in seaborn v0.14.0.\n",
      "\n",
      "Please adapt your code to use either `displot` (a figure-level function with\n",
      "similar flexibility) or `histplot` (an axes-level function for histograms).\n",
      "\n",
      "For a guide to updating your code to use the new functions, please see\n",
      "https://gist.github.com/mwaskom/de44147ed2974457ad6372750bbe5751\n",
      "\n",
      "  sns.distplot(df_gpt4o['cosine'], label='4o')\n",
      "C:\\Users\\sofia\\AppData\\Local\\Temp\\ipykernel_34524\\2182486418.py:5: UserWarning: \n",
      "\n",
      "`distplot` is a deprecated function and will be removed in seaborn v0.14.0.\n",
      "\n",
      "Please adapt your code to use either `displot` (a figure-level function with\n",
      "similar flexibility) or `histplot` (an axes-level function for histograms).\n",
      "\n",
      "For a guide to updating your code to use the new functions, please see\n",
      "https://gist.github.com/mwaskom/de44147ed2974457ad6372750bbe5751\n",
      "\n",
      "  sns.distplot(df_gpt4o_mini['cosine'], label='4o-mini')\n"
     ]
    },
    {
     "data": {
      "text/plain": [
       "<matplotlib.legend.Legend at 0x228753e2590>"
      ]
     },
     "execution_count": 54,
     "metadata": {},
     "output_type": "execute_result"
    },
    {
     "data": {
      "image/png": "[encoded data removed]",
      "text/plain": [
       "<Figure size 640x480 with 1 Axes>"
      ]
     },
     "metadata": {},
     "output_type": "display_data"
    }
   ],
   "source": [
    "# sns.distplot(df_gpt35['cosine'], label='3.5')\n",
    "import seaborn as sns\n",
    "\n",
    "sns.distplot(df_gpt4o['cosine'], label='4o')\n",
    "sns.distplot(df_gpt4o_mini['cosine'], label='4o-mini')\n",
    "\n",
    "plt.title(\"RAG LLM performance\")\n",
    "plt.xlabel(\"A->Q->A' Cosine Similarity\")\n",
    "plt.legend()"
   ]
  },
  {
   "cell_type": "code",
   "execution_count": null,
   "id": "4a78ee01-2c59-4125-99cc-b2e9fa97036c",
   "metadata": {},
   "outputs": [],
   "source": []
  }
 ],
 "metadata": {
  "kernelspec": {
   "display_name": "Python 3 (ipykernel)",
   "language": "python",
   "name": "python3"
  },
  "language_info": {
   "codemirror_mode": {
    "name": "ipython",
    "version": 3
   },
   "file_extension": ".py",
   "mimetype": "text/x-python",
   "name": "python",
   "nbconvert_exporter": "python",
   "pygments_lexer": "ipython3",
   "version": "3.11.9"
  }
 },
 "nbformat": 4,
 "nbformat_minor": 5
}
